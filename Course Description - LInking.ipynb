{
 "cells": [
  {
   "cell_type": "code",
   "execution_count": 1,
   "metadata": {
    "collapsed": true
   },
   "outputs": [],
   "source": [
    "import pandas as pd\n",
    "import math"
   ]
  },
  {
   "cell_type": "markdown",
   "metadata": {},
   "source": [
    "#### Btech Linking"
   ]
  },
  {
   "cell_type": "code",
   "execution_count": 39,
   "metadata": {
    "collapsed": true
   },
   "outputs": [],
   "source": [
    "cd_csv = \"descriptions_new/btech/combined.csv\"\n",
    "products = \"wc-product-export-august.csv\""
   ]
  },
  {
   "cell_type": "code",
   "execution_count": 40,
   "metadata": {
    "collapsed": true
   },
   "outputs": [],
   "source": [
    "cd = pd.read_csv(cd_csv)\n",
    "prod = pd.read_csv(products)"
   ]
  },
  {
   "cell_type": "code",
   "execution_count": 10,
   "metadata": {},
   "outputs": [
    {
     "name": "stdout",
     "output_type": "stream",
     "text": [
      "JCBUST - Surveying\n",
      "0\n"
     ]
    }
   ],
   "source": [
    "count, category = 0, 'Vdo2Learn-B.Tech'\n",
    "for idx, row in cd.iterrows():\n",
    "    name = row['University'] + ' - ' + row['Subject']\n",
    "    s = prod[(prod['Name'] == name) & (prod['Categories'].str.contains(category, na=False))]\n",
    "    if len(s) != 1:\n",
    "        print(name)\n",
    "        print(len(s))\n",
    "    else:\n",
    "        prod.loc[s.index, 'Description'] = row['Description']\n"
   ]
  },
  {
   "cell_type": "markdown",
   "metadata": {},
   "source": [
    "#### Diploma Linking"
   ]
  },
  {
   "cell_type": "code",
   "execution_count": 11,
   "metadata": {
    "collapsed": true
   },
   "outputs": [],
   "source": [
    "cd_csv = 'descriptions_new/diploma/combined.csv'\n",
    "cd = pd.read_csv(cd_csv)"
   ]
  },
  {
   "cell_type": "code",
   "execution_count": 12,
   "metadata": {},
   "outputs": [
    {
     "name": "stdout",
     "output_type": "stream",
     "text": [
      "DLBTE - Data Structures\n",
      "2\n"
     ]
    }
   ],
   "source": [
    "count, category = 0, 'Vdo2Learn-Diploma'\n",
    "for idx, row in cd.iterrows():\n",
    "    name = row['University'] + ' - ' + row['Subject']\n",
    "    s = prod[(prod['Name'] == name) & (prod['Categories'].str.contains(category, na=False))]\n",
    "    if len(s) != 1:\n",
    "        print(name)\n",
    "        print(len(s))\n",
    "    else:\n",
    "        prod.loc[s.index, 'Description'] = row['Description']"
   ]
  },
  {
   "cell_type": "code",
   "execution_count": 13,
   "metadata": {
    "collapsed": true
   },
   "outputs": [],
   "source": [
    "prod.to_csv('wc-product-output.csv', index=False)"
   ]
  },
  {
   "cell_type": "markdown",
   "metadata": {
    "collapsed": true
   },
   "source": [
    "#### Find Diploma products that should not exist "
   ]
  },
  {
   "cell_type": "code",
   "execution_count": 41,
   "metadata": {},
   "outputs": [],
   "source": [
    "products2 = \"wc-product-export-august.csv\"\n",
    "prod = pd.read_csv(products2)"
   ]
  },
  {
   "cell_type": "code",
   "execution_count": 42,
   "metadata": {
    "collapsed": true
   },
   "outputs": [],
   "source": [
    "subset = prod[prod.Description.notna()]\n",
    "count, category = 0, 'Vdo2Learn-B.Tech'\n",
    "diploma = subset[subset.Categories.str.contains(category,na=False)]\n",
    "courses = set(cd.apply(lambda x: x['University'] + ' - ' + x['Subject'], axis=1).tolist())"
   ]
  },
  {
   "cell_type": "code",
   "execution_count": 43,
   "metadata": {
    "collapsed": true
   },
   "outputs": [],
   "source": [
    "courses = set(cd.apply(lambda x: x['University'] + ' - ' + x['Subject'], axis=1).tolist())"
   ]
  },
  {
   "cell_type": "code",
   "execution_count": 44,
   "metadata": {
    "collapsed": true
   },
   "outputs": [],
   "source": [
    "products = set(diploma['Name'].tolist())\n",
    "extra = products - courses"
   ]
  },
  {
   "cell_type": "code",
   "execution_count": 45,
   "metadata": {},
   "outputs": [
    {
     "data": {
      "text/plain": [
       "{'AKTU - Fluid Mechanics',\n",
       " 'BPUT - Fluid Mechanics',\n",
       " 'BPUT - Numerical Methods',\n",
       " 'BPUT - Theory of Machines',\n",
       " 'CSVTU - Engineering Mechanics',\n",
       " 'CSVTU - Fluid Mechanics',\n",
       " 'CSVTU - Numerical Methods',\n",
       " 'CSVTU - Theory of Machines',\n",
       " 'DBATU - Fluid Mechanics',\n",
       " 'GGSIPU - Fluid Mechanics',\n",
       " 'GTU - Fluid Mechanics',\n",
       " 'IKGPTU  - Surveying',\n",
       " 'IKGPTU - Fluid Mechanics',\n",
       " 'JBUST - Surveying',\n",
       " 'JCBUST  - Surveying',\n",
       " 'JCBUST - Fluid Mechanics',\n",
       " 'MAKAUT - Fluid Mechanics',\n",
       " 'MDU - Fluid Mechanics',\n",
       " 'MDU - Numerical Methods',\n",
       " 'MDU - Theory of Machines',\n",
       " 'MRSPTU - Fluid Mechanics',\n",
       " 'MU - Fluid Mechanics',\n",
       " 'MU - Numerical Methods',\n",
       " 'MU - Theory of Machines',\n",
       " 'RGPV - Fluid Mechanics',\n",
       " 'RTMNU - Fluid Mechanics',\n",
       " 'RTMNU - Numerical Methods',\n",
       " 'RTMNU - Signals and Systems',\n",
       " 'RTMNU - Theory of Machines',\n",
       " 'RTU - Fluid Mechanics',\n",
       " 'SPPU - Electronic Devices and Circuits',\n",
       " 'SPPU - Fluid Mechanics',\n",
       " 'SPPU - Fundamentals of Computer and Programming in C',\n",
       " 'SPPU - Numerical Methods',\n",
       " 'SPPU - Theory of Machines',\n",
       " 'UTU - Engineering Mechanics',\n",
       " 'UTU - Fluid Mechanics',\n",
       " 'UTU - Numerical Methods',\n",
       " 'UTU - Theory of Machines'}"
      ]
     },
     "execution_count": 45,
     "metadata": {},
     "output_type": "execute_result"
    }
   ],
   "source": [
    "extra"
   ]
  },
  {
   "cell_type": "code",
   "execution_count": null,
   "metadata": {
    "collapsed": true
   },
   "outputs": [],
   "source": []
  }
 ],
 "metadata": {
  "kernelspec": {
   "display_name": "Python 3",
   "language": "python",
   "name": "python3"
  },
  "language_info": {
   "codemirror_mode": {
    "name": "ipython",
    "version": 3
   },
   "file_extension": ".py",
   "mimetype": "text/x-python",
   "name": "python",
   "nbconvert_exporter": "python",
   "pygments_lexer": "ipython3",
   "version": "3.6.1"
  }
 },
 "nbformat": 4,
 "nbformat_minor": 2
}
