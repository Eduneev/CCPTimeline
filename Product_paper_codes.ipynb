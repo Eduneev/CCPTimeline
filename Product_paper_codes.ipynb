{
 "cells": [
  {
   "cell_type": "code",
   "execution_count": 1,
   "metadata": {
    "collapsed": true
   },
   "outputs": [],
   "source": [
    "import pandas as pd\n",
    "import csv\n",
    "import math"
   ]
  },
  {
   "cell_type": "code",
   "execution_count": 2,
   "metadata": {
    "collapsed": true
   },
   "outputs": [],
   "source": [
    "#csv_path = 'C:\\\\Users\\\\sanat\\\\Downloads\\\\List of Subjects updated 2 - Paper codes of subjects (1).csv'\n",
    "csv_path = 'C:\\\\Users\\\\sanat\\\\Downloads\\\\List of Subjects B.Tech - MAIN.csv'\n",
    "diploma_csv_path = \"C:\\\\Users\\\\sanat\\\\Downloads\\\\List of Subjects Diploma - MAIN.csv\""
   ]
  },
  {
   "cell_type": "code",
   "execution_count": 3,
   "metadata": {
    "collapsed": true
   },
   "outputs": [],
   "source": [
    "df = pd.read_csv(csv_path)"
   ]
  },
  {
   "cell_type": "code",
   "execution_count": 4,
   "metadata": {},
   "outputs": [
    {
     "data": {
      "text/plain": [
       "1265"
      ]
     },
     "execution_count": 4,
     "metadata": {},
     "output_type": "execute_result"
    }
   ],
   "source": [
    "df[df['University short name']=='RTU']\n",
    "len(df)"
   ]
  },
  {
   "cell_type": "code",
   "execution_count": 5,
   "metadata": {
    "collapsed": true
   },
   "outputs": [],
   "source": [
    "def extract_mapping(df):\n",
    "    mapping = {}\n",
    "    current = None\n",
    "    papers = []\n",
    "    codes = []\n",
    "    for idx, row in enumerate(df.iterrows()):\n",
    "        row = row[1]\n",
    "        if isinstance(row[1], str):\n",
    "            if idx != 0:\n",
    "                mapping[current] = papers\n",
    "                papers= []            \n",
    "            current = row[1]       \n",
    "\n",
    "        papers.append({'univ': row[2], 'paper': row[3], 'group': row[4]})\n",
    "\n",
    "    mapping[current] = papers\n",
    "    return mapping"
   ]
  },
  {
   "cell_type": "code",
   "execution_count": 8,
   "metadata": {},
   "outputs": [
    {
     "name": "stdout",
     "output_type": "stream",
     "text": [
      "29\n",
      "718\n"
     ]
    }
   ],
   "source": [
    "print(len(mapping))\n",
    "a = 0\n",
    "for i in mapping.keys():\n",
    "    a += len(mapping[i])\n",
    "\n",
    "mapping.keys()\n",
    "print(a)"
   ]
  },
  {
   "cell_type": "code",
   "execution_count": 15,
   "metadata": {
    "collapsed": true
   },
   "outputs": [],
   "source": [
    "def generate_paper_codes(mapping):\n",
    "    mapping2 = []\n",
    "    total_codes = 0\n",
    "    for subj in mapping.keys():\n",
    "        code_str = ''\n",
    "        val = mapping[subj]\n",
    "        univ = ''\n",
    "        subject = subj.split('(')[0].rstrip()\n",
    "        total_codes += len(val)\n",
    "        for i in val:\n",
    "            #print(i)\n",
    "            if i['univ'] == univ:\n",
    "                code_str = code_str + i['paper'] + '|'\n",
    "            elif univ!='':\n",
    "                #print(univ)\n",
    "                # create name string, substring code_str and save to list\n",
    "                code_str = code_str[:-1]\n",
    "                name = (univ + \"_\" + subject + \"_paper_code\").lower()\n",
    "                name =name.replace(\" \", \"_\")\n",
    "                mapping2.append({'subject':subject, 'name': name, 'paper_codes': code_str})\n",
    "                univ = i['univ']\n",
    "                code_str = i['paper'] + '|'\n",
    "            else:\n",
    "                univ = i['univ']\n",
    "                code_str = code_str + i['paper'] + '|'\n",
    "\n",
    "        # Last element is not getting saved, save it\n",
    "        code_str = code_str[:-1]\n",
    "        name = (univ + \"_\" + subject + \"_paper_code\").lower()\n",
    "        name =name.replace(\" \", \"_\")\n",
    "        mapping2.append({'subject':subject, 'name': name, 'paper_codes': code_str})\n",
    "    \n",
    "    return mapping2\n",
    "    "
   ]
  },
  {
   "cell_type": "markdown",
   "metadata": {},
   "source": [
    "## Generate Mapping for Btech"
   ]
  },
  {
   "cell_type": "code",
   "execution_count": 16,
   "metadata": {},
   "outputs": [
    {
     "name": "stdout",
     "output_type": "stream",
     "text": [
      "1258\n",
      "544\n"
     ]
    }
   ],
   "source": [
    "df = pd.read_csv(csv_path)  \n",
    "mapping = extract_mapping(df)\n",
    "a = 0\n",
    "for i in mapping.keys():\n",
    "    a += len(mapping[i])\n",
    "print(a)\n",
    "\n",
    "mapping2 = generate_paper_codes(mapping)\n",
    "print(len(mapping2))\n"
   ]
  },
  {
   "cell_type": "markdown",
   "metadata": {},
   "source": [
    "#### Save Mapping for Btech"
   ]
  },
  {
   "cell_type": "code",
   "execution_count": 18,
   "metadata": {
    "collapsed": true
   },
   "outputs": [],
   "source": [
    "d = pd.DataFrame(mapping2)\n",
    "d.to_csv('paper_codes_updated.csv')"
   ]
  },
  {
   "cell_type": "code",
   "execution_count": 20,
   "metadata": {
    "scrolled": false
   },
   "outputs": [
    {
     "name": "stdout",
     "output_type": "stream",
     "text": [
      "31\n",
      "33\n",
      "30\n",
      "31\n",
      "31\n",
      "33\n",
      "31\n",
      "32\n",
      "33\n",
      "33\n",
      "33\n",
      "55\n",
      "33\n",
      "31\n"
     ]
    }
   ],
   "source": [
    "print(len(d[d['name'].str.contains('aktu')]))\n",
    "print(len(d[d['name'].str.contains('dbatu')]))\n",
    "print(len(d[d['name'].str.contains('ikgptu')]))\n",
    "print(len(d[d['name'].str.contains('rtu')]))\n",
    "print(len(d[d['name'].str.contains('gtu')]))\n",
    "print(len(d[d['name'].str.contains('ggsipu')]))\n",
    "print(len(d[d['name'].str.contains('jcbust')]))\n",
    "print(len(d[d['name'].str.contains('makaut')]))\n",
    "print(len(d[d['name'].str.contains('mrsptu')]))\n",
    "print(len(d[d['name'].str.contains('utu')]))\n",
    "print(len(d[d['name'].str.contains('csvtu')]))\n",
    "print(len(d[d['name'].str.contains('mu')]))\n",
    "print(len(d[d['name'].str.contains('rtmnu')]))\n",
    "print(len(d[d['name'].str.contains('sppu')]))\n",
    "\n",
    "\n",
    "\n",
    "#print(d[d['name'].str.contains('aktu')])"
   ]
  },
  {
   "cell_type": "code",
   "execution_count": 22,
   "metadata": {},
   "outputs": [],
   "source": [
    "# Extract list of only new universities\n",
    "new_universities = ['utu','csvtu','mu_', 'mdu_', 'sppu', 'rtmnu', 'bput']\n",
    "new_d = d[d['name'].str.contains('|'.join(new_universities))]"
   ]
  },
  {
   "cell_type": "code",
   "execution_count": 25,
   "metadata": {},
   "outputs": [],
   "source": [
    "new_d.to_csv('paper_codes_phase2_only.csv', index=False)"
   ]
  },
  {
   "cell_type": "markdown",
   "metadata": {},
   "source": [
    "## Generate paper codes for Diploma"
   ]
  },
  {
   "cell_type": "code",
   "execution_count": 22,
   "metadata": {},
   "outputs": [
    {
     "name": "stdout",
     "output_type": "stream",
     "text": [
      "325\n",
      "233\n"
     ]
    }
   ],
   "source": [
    "df = pd.read_csv(diploma_csv_path)  \n",
    "mapping = extract_mapping(df)\n",
    "a = 0\n",
    "for i in mapping.keys():\n",
    "    a += len(mapping[i])\n",
    "print(a)\n",
    "\n",
    "mapping2 = generate_paper_codes(mapping)\n",
    "print(len(mapping2))"
   ]
  },
  {
   "cell_type": "markdown",
   "metadata": {
    "collapsed": true
   },
   "source": [
    "Save Paper codes for Diploma"
   ]
  },
  {
   "cell_type": "code",
   "execution_count": 23,
   "metadata": {
    "collapsed": true
   },
   "outputs": [],
   "source": [
    "d = pd.DataFrame(mapping2)\n",
    "d.to_csv('paper_codes_diploma.csv')"
   ]
  },
  {
   "cell_type": "code",
   "execution_count": null,
   "metadata": {
    "collapsed": true
   },
   "outputs": [],
   "source": []
  }
 ],
 "metadata": {
  "kernelspec": {
   "display_name": "Python 3",
   "language": "python",
   "name": "python3"
  },
  "language_info": {
   "codemirror_mode": {
    "name": "ipython",
    "version": 3
   },
   "file_extension": ".py",
   "mimetype": "text/x-python",
   "name": "python",
   "nbconvert_exporter": "python",
   "pygments_lexer": "ipython3",
   "version": "3.6.1"
  }
 },
 "nbformat": 4,
 "nbformat_minor": 2
}
