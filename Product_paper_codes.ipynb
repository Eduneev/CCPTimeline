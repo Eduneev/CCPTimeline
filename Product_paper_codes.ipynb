{
 "cells": [
  {
   "cell_type": "code",
   "execution_count": 1,
   "metadata": {
    "collapsed": true
   },
   "outputs": [],
   "source": [
    "import pandas as pd\n",
    "import csv\n",
    "import math"
   ]
  },
  {
   "cell_type": "code",
   "execution_count": 2,
   "metadata": {
    "collapsed": true
   },
   "outputs": [],
   "source": [
    "#csv_path = 'C:\\\\Users\\\\sanat\\\\Downloads\\\\List of Subjects updated 2 - Paper codes of subjects (1).csv'\n",
    "csv_path = 'C:\\\\Users\\\\sanat\\\\Downloads\\\\List of Subjects B.Tech - MAIN (3).csv'\n",
    "diploma_csv_path = \"C:\\\\Users\\\\sanat\\\\Downloads\\\\List of Subjects Diploma - MAIN (2).csv\""
   ]
  },
  {
   "cell_type": "code",
   "execution_count": 3,
   "metadata": {
    "collapsed": true
   },
   "outputs": [],
   "source": [
    "df = pd.read_csv(csv_path)"
   ]
  },
  {
   "cell_type": "code",
   "execution_count": 4,
   "metadata": {},
   "outputs": [
    {
     "data": {
      "text/plain": [
       "1308"
      ]
     },
     "execution_count": 4,
     "metadata": {},
     "output_type": "execute_result"
    }
   ],
   "source": [
    "df[df['University short name']=='RTU']\n",
    "len(df)"
   ]
  },
  {
   "cell_type": "code",
   "execution_count": 5,
   "metadata": {
    "collapsed": true
   },
   "outputs": [],
   "source": [
    "def extract_mapping(df):\n",
    "    mapping = {}\n",
    "    current = None\n",
    "    papers = []\n",
    "    codes = []\n",
    "    for idx, row in enumerate(df.iterrows()):\n",
    "        row = row[1]\n",
    "        if isinstance(row[1], str):\n",
    "            if idx != 0:\n",
    "                mapping[current] = papers\n",
    "                papers= []            \n",
    "            current = row[1]       \n",
    "\n",
    "        papers.append({'univ': row[2], 'paper': row[3], 'group': row[4]})\n",
    "\n",
    "    mapping[current] = papers\n",
    "    return mapping"
   ]
  },
  {
   "cell_type": "code",
   "execution_count": 6,
   "metadata": {},
   "outputs": [
    {
     "ename": "NameError",
     "evalue": "name 'mapping' is not defined",
     "output_type": "error",
     "traceback": [
      "\u001b[1;31m---------------------------------------------------------------------------\u001b[0m",
      "\u001b[1;31mNameError\u001b[0m                                 Traceback (most recent call last)",
      "\u001b[1;32m<ipython-input-6-9f6845437d53>\u001b[0m in \u001b[0;36m<module>\u001b[1;34m()\u001b[0m\n\u001b[1;32m----> 1\u001b[1;33m \u001b[0mprint\u001b[0m\u001b[1;33m(\u001b[0m\u001b[0mlen\u001b[0m\u001b[1;33m(\u001b[0m\u001b[0mmapping\u001b[0m\u001b[1;33m)\u001b[0m\u001b[1;33m)\u001b[0m\u001b[1;33m\u001b[0m\u001b[0m\n\u001b[0m\u001b[0;32m      2\u001b[0m \u001b[0ma\u001b[0m \u001b[1;33m=\u001b[0m \u001b[1;36m0\u001b[0m\u001b[1;33m\u001b[0m\u001b[0m\n\u001b[0;32m      3\u001b[0m \u001b[1;32mfor\u001b[0m \u001b[0mi\u001b[0m \u001b[1;32min\u001b[0m \u001b[0mmapping\u001b[0m\u001b[1;33m.\u001b[0m\u001b[0mkeys\u001b[0m\u001b[1;33m(\u001b[0m\u001b[1;33m)\u001b[0m\u001b[1;33m:\u001b[0m\u001b[1;33m\u001b[0m\u001b[0m\n\u001b[0;32m      4\u001b[0m     \u001b[0ma\u001b[0m \u001b[1;33m+=\u001b[0m \u001b[0mlen\u001b[0m\u001b[1;33m(\u001b[0m\u001b[0mmapping\u001b[0m\u001b[1;33m[\u001b[0m\u001b[0mi\u001b[0m\u001b[1;33m]\u001b[0m\u001b[1;33m)\u001b[0m\u001b[1;33m\u001b[0m\u001b[0m\n\u001b[0;32m      5\u001b[0m \u001b[1;33m\u001b[0m\u001b[0m\n",
      "\u001b[1;31mNameError\u001b[0m: name 'mapping' is not defined"
     ]
    }
   ],
   "source": [
    "print(len(mapping))\n",
    "a = 0\n",
    "for i in mapping.keys():\n",
    "    a += len(mapping[i])\n",
    "\n",
    "mapping.keys()\n",
    "print(a)"
   ]
  },
  {
   "cell_type": "code",
   "execution_count": 7,
   "metadata": {
    "collapsed": true
   },
   "outputs": [],
   "source": [
    "def generate_paper_codes(mapping):\n",
    "    mapping2 = []\n",
    "    total_codes = 0\n",
    "    for subj in mapping.keys():\n",
    "        code_str = ''\n",
    "        val = mapping[subj]\n",
    "        univ = ''\n",
    "        subject = subj.split('(')[0].rstrip()\n",
    "        total_codes += len(val)\n",
    "        for i in val:\n",
    "            #print(i)\n",
    "            if i['univ'] == univ:\n",
    "                code_str = code_str + i['paper'] + '|'\n",
    "            elif univ!='':\n",
    "                #print(univ)\n",
    "                # create name string, substring code_str and save to list\n",
    "                code_str = code_str[:-1]\n",
    "                name = (univ + \"_\" + subject + \"_paper_code\").lower()\n",
    "                name =name.replace(\" \", \"_\")\n",
    "                mapping2.append({'subject':subject, 'name': name, 'paper_codes': code_str})\n",
    "                univ = i['univ']\n",
    "                code_str = str(i['paper']) + '|'\n",
    "            else:\n",
    "                univ = i['univ']\n",
    "                code_str = code_str + str(i['paper']) + '|'\n",
    "\n",
    "        # Last element is not getting saved, save it\n",
    "        code_str = code_str[:-1]\n",
    "        name = (univ + \"_\" + subject + \"_paper_code\").lower()\n",
    "        name =name.replace(\" \", \"_\")\n",
    "        mapping2.append({'subject':subject, 'name': name, 'paper_codes': code_str})\n",
    "    \n",
    "    return mapping2\n",
    "    "
   ]
  },
  {
   "cell_type": "markdown",
   "metadata": {},
   "source": [
    "## Generate Mapping for Btech"
   ]
  },
  {
   "cell_type": "code",
   "execution_count": 8,
   "metadata": {},
   "outputs": [
    {
     "name": "stdout",
     "output_type": "stream",
     "text": [
      "1308\n",
      "547\n"
     ]
    }
   ],
   "source": [
    "df = pd.read_csv(csv_path)  \n",
    "mapping = extract_mapping(df)\n",
    "a = 0\n",
    "for i in mapping.keys():\n",
    "    a += len(mapping[i])\n",
    "print(a)\n",
    "\n",
    "mapping2 = generate_paper_codes(mapping)\n",
    "print(len(mapping2))\n"
   ]
  },
  {
   "cell_type": "markdown",
   "metadata": {},
   "source": [
    "#### Save Mapping for Btech"
   ]
  },
  {
   "cell_type": "code",
   "execution_count": 14,
   "metadata": {
    "collapsed": true
   },
   "outputs": [],
   "source": [
    "d = pd.DataFrame(mapping2)\n",
    "d.to_csv('paper_codes_updated3.csv', index=False)"
   ]
  },
  {
   "cell_type": "code",
   "execution_count": 10,
   "metadata": {
    "scrolled": false
   },
   "outputs": [
    {
     "name": "stdout",
     "output_type": "stream",
     "text": [
      "31\n",
      "33\n",
      "30\n",
      "31\n",
      "31\n",
      "33\n",
      "30\n",
      "33\n",
      "33\n",
      "33\n",
      "34\n",
      "55\n",
      "34\n",
      "32\n",
      "34\n"
     ]
    }
   ],
   "source": [
    "print(len(d[d['name'].str.contains('aktu')]))\n",
    "print(len(d[d['name'].str.contains('dbatu')]))\n",
    "print(len(d[d['name'].str.contains('ikgptu')]))\n",
    "print(len(d[d['name'].str.contains('rtu')]))\n",
    "print(len(d[d['name'].str.contains('gtu')]))\n",
    "print(len(d[d['name'].str.contains('ggsipu')]))\n",
    "print(len(d[d['name'].str.contains('jcbust')]))\n",
    "print(len(d[d['name'].str.contains('makaut')]))\n",
    "print(len(d[d['name'].str.contains('mrsptu')]))\n",
    "print(len(d[d['name'].str.contains('utu')]))\n",
    "print(len(d[d['name'].str.contains('csvtu')]))\n",
    "print(len(d[d['name'].str.contains('mu')]))\n",
    "print(len(d[d['name'].str.contains('rtmnu')]))\n",
    "print(len(d[d['name'].str.contains('sppu')]))\n",
    "print(len(d[d['name'].str.contains('rtmnu')]))\n",
    "\n",
    "\n",
    "\n",
    "#print(d[d['name'].str.contains('aktu')])"
   ]
  },
  {
   "cell_type": "code",
   "execution_count": 22,
   "metadata": {
    "collapsed": true
   },
   "outputs": [],
   "source": [
    "# Extract list of only new universities\n",
    "new_universities = ['utu','csvtu','mu_', 'mdu_', 'sppu', 'rtmnu', 'bput']\n",
    "new_d = d[d['name'].str.contains('|'.join(new_universities))]"
   ]
  },
  {
   "cell_type": "code",
   "execution_count": 25,
   "metadata": {
    "collapsed": true
   },
   "outputs": [],
   "source": [
    "new_d.to_csv('paper_codes_phase2_only.csv', index=False)"
   ]
  },
  {
   "cell_type": "code",
   "execution_count": 12,
   "metadata": {},
   "outputs": [
    {
     "data": {
      "text/html": [
       "<div>\n",
       "<style scoped>\n",
       "    .dataframe tbody tr th:only-of-type {\n",
       "        vertical-align: middle;\n",
       "    }\n",
       "\n",
       "    .dataframe tbody tr th {\n",
       "        vertical-align: top;\n",
       "    }\n",
       "\n",
       "    .dataframe thead th {\n",
       "        text-align: right;\n",
       "    }\n",
       "</style>\n",
       "<table border=\"1\" class=\"dataframe\">\n",
       "  <thead>\n",
       "    <tr style=\"text-align: right;\">\n",
       "      <th></th>\n",
       "      <th>subject</th>\n",
       "      <th>name</th>\n",
       "      <th>paper_codes</th>\n",
       "      <th>Unnamed: 0</th>\n",
       "    </tr>\n",
       "  </thead>\n",
       "  <tbody>\n",
       "    <tr>\n",
       "      <th>0</th>\n",
       "      <td>Data Structure</td>\n",
       "      <td>aktu_data_structure_paper_code</td>\n",
       "      <td>KCS301|RCS305</td>\n",
       "      <td>0.0</td>\n",
       "    </tr>\n",
       "    <tr>\n",
       "      <th>1</th>\n",
       "      <td>Data Structure</td>\n",
       "      <td>dbatu_data_structure_paper_code</td>\n",
       "      <td>BTCOC303|BTITC402</td>\n",
       "      <td>1.0</td>\n",
       "    </tr>\n",
       "    <tr>\n",
       "      <th>2</th>\n",
       "      <td>Data Structure</td>\n",
       "      <td>ggsipu_data_structure_paper_code</td>\n",
       "      <td>ETCS-209</td>\n",
       "      <td>2.0</td>\n",
       "    </tr>\n",
       "    <tr>\n",
       "      <th>3</th>\n",
       "      <td>Data Structure</td>\n",
       "      <td>gtu_data_structure_paper_code</td>\n",
       "      <td>2130702</td>\n",
       "      <td>3.0</td>\n",
       "    </tr>\n",
       "    <tr>\n",
       "      <th>4</th>\n",
       "      <td>Data Structure</td>\n",
       "      <td>ikgptu_data_structure_paper_code</td>\n",
       "      <td>BTCS301-18|BTIT301-18</td>\n",
       "      <td>4.0</td>\n",
       "    </tr>\n",
       "    <tr>\n",
       "      <th>...</th>\n",
       "      <td>...</td>\n",
       "      <td>...</td>\n",
       "      <td>...</td>\n",
       "      <td>...</td>\n",
       "    </tr>\n",
       "    <tr>\n",
       "      <th>542</th>\n",
       "      <td>Building Material and Construction</td>\n",
       "      <td>ggsipu_building_material_and_construction_pape...</td>\n",
       "      <td>ETCE-207</td>\n",
       "      <td>542.0</td>\n",
       "    </tr>\n",
       "    <tr>\n",
       "      <th>543</th>\n",
       "      <td>Building Material and Construction</td>\n",
       "      <td>csvtu_building_material_and_construction_paper...</td>\n",
       "      <td>320355-20</td>\n",
       "      <td>543.0</td>\n",
       "    </tr>\n",
       "    <tr>\n",
       "      <th>544</th>\n",
       "      <td>Building Material and Construction</td>\n",
       "      <td>mu_building_material_and_construction_paper_code</td>\n",
       "      <td>CEC-404</td>\n",
       "      <td>544.0</td>\n",
       "    </tr>\n",
       "    <tr>\n",
       "      <th>545</th>\n",
       "      <td>Building Material and Construction</td>\n",
       "      <td>rtmnu_building_material_and_construction_paper...</td>\n",
       "      <td>BECVE405T</td>\n",
       "      <td>545.0</td>\n",
       "    </tr>\n",
       "    <tr>\n",
       "      <th>546</th>\n",
       "      <td>Building Material and Construction</td>\n",
       "      <td>utu_building_material_and_construction_paper_code</td>\n",
       "      <td>BCET-302</td>\n",
       "      <td>546.0</td>\n",
       "    </tr>\n",
       "  </tbody>\n",
       "</table>\n",
       "<p>547 rows × 4 columns</p>\n",
       "</div>"
      ],
      "text/plain": [
       "                                subject  \\\n",
       "0                        Data Structure   \n",
       "1                        Data Structure   \n",
       "2                        Data Structure   \n",
       "3                        Data Structure   \n",
       "4                        Data Structure   \n",
       "..                                  ...   \n",
       "542  Building Material and Construction   \n",
       "543  Building Material and Construction   \n",
       "544  Building Material and Construction   \n",
       "545  Building Material and Construction   \n",
       "546  Building Material and Construction   \n",
       "\n",
       "                                                  name            paper_codes  \\\n",
       "0                       aktu_data_structure_paper_code          KCS301|RCS305   \n",
       "1                      dbatu_data_structure_paper_code      BTCOC303|BTITC402   \n",
       "2                     ggsipu_data_structure_paper_code               ETCS-209   \n",
       "3                        gtu_data_structure_paper_code                2130702   \n",
       "4                     ikgptu_data_structure_paper_code  BTCS301-18|BTIT301-18   \n",
       "..                                                 ...                    ...   \n",
       "542  ggsipu_building_material_and_construction_pape...               ETCE-207   \n",
       "543  csvtu_building_material_and_construction_paper...              320355-20   \n",
       "544   mu_building_material_and_construction_paper_code                CEC-404   \n",
       "545  rtmnu_building_material_and_construction_paper...              BECVE405T   \n",
       "546  utu_building_material_and_construction_paper_code               BCET-302   \n",
       "\n",
       "     Unnamed: 0  \n",
       "0           0.0  \n",
       "1           1.0  \n",
       "2           2.0  \n",
       "3           3.0  \n",
       "4           4.0  \n",
       "..          ...  \n",
       "542       542.0  \n",
       "543       543.0  \n",
       "544       544.0  \n",
       "545       545.0  \n",
       "546       546.0  \n",
       "\n",
       "[547 rows x 4 columns]"
      ]
     },
     "execution_count": 12,
     "metadata": {},
     "output_type": "execute_result"
    }
   ],
   "source": [
    "# Diff check between new and old paper codes\n",
    "old_d = pd.read_csv('paper_codes_updated2.csv')\n",
    "pd.concat([d, old_d, d]).drop_duplicates(keep=False)"
   ]
  },
  {
   "cell_type": "markdown",
   "metadata": {},
   "source": [
    "## Generate paper codes for Diploma"
   ]
  },
  {
   "cell_type": "code",
   "execution_count": 6,
   "metadata": {},
   "outputs": [
    {
     "name": "stdout",
     "output_type": "stream",
     "text": [
      "347\n",
      "251\n"
     ]
    }
   ],
   "source": [
    "df = pd.read_csv(diploma_csv_path)  \n",
    "mapping = extract_mapping(df)\n",
    "a = 0\n",
    "for i in mapping.keys():\n",
    "    a += len(mapping[i])\n",
    "print(a)\n",
    "\n",
    "mapping2 = generate_paper_codes(mapping)\n",
    "print(len(mapping2))"
   ]
  },
  {
   "cell_type": "markdown",
   "metadata": {
    "collapsed": true
   },
   "source": [
    "Save Paper codes for Diploma"
   ]
  },
  {
   "cell_type": "code",
   "execution_count": 7,
   "metadata": {
    "collapsed": true
   },
   "outputs": [],
   "source": [
    "d = pd.DataFrame(mapping2)\n",
    "d.to_csv('paper_codes_diploma_new.csv')"
   ]
  },
  {
   "cell_type": "code",
   "execution_count": null,
   "metadata": {
    "collapsed": true
   },
   "outputs": [],
   "source": []
  }
 ],
 "metadata": {
  "kernelspec": {
   "display_name": "Python 3",
   "language": "python",
   "name": "python3"
  },
  "language_info": {
   "codemirror_mode": {
    "name": "ipython",
    "version": 3
   },
   "file_extension": ".py",
   "mimetype": "text/x-python",
   "name": "python",
   "nbconvert_exporter": "python",
   "pygments_lexer": "ipython3",
   "version": "3.6.1"
  }
 },
 "nbformat": 4,
 "nbformat_minor": 2
}
