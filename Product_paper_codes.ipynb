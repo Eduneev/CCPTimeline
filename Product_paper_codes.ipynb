{
 "cells": [
  {
   "cell_type": "code",
   "execution_count": 2,
   "metadata": {
    "collapsed": true
   },
   "outputs": [],
   "source": [
    "import pandas as pd\n",
    "import csv\n",
    "import math"
   ]
  },
  {
   "cell_type": "code",
   "execution_count": 3,
   "metadata": {
    "collapsed": true
   },
   "outputs": [],
   "source": [
    "csv_path = 'C:\\\\Users\\\\sanat\\\\Downloads\\\\List of Subjects updated 2 - Paper codes of subjects (1).csv'\n",
    "diploma_csv_path = \"C:\\\\Users\\\\sanat\\\\Downloads\\\\List of Subjects Diploma - MAIN.csv\""
   ]
  },
  {
   "cell_type": "code",
   "execution_count": 3,
   "metadata": {
    "collapsed": true
   },
   "outputs": [],
   "source": [
    "df = pd.read_csv(csv_path)"
   ]
  },
  {
   "cell_type": "code",
   "execution_count": 6,
   "metadata": {},
   "outputs": [
    {
     "data": {
      "text/plain": [
       "718"
      ]
     },
     "execution_count": 6,
     "metadata": {},
     "output_type": "execute_result"
    }
   ],
   "source": [
    "df[df['University short name']=='RTU']\n",
    "len(df)"
   ]
  },
  {
   "cell_type": "code",
   "execution_count": 8,
   "metadata": {},
   "outputs": [],
   "source": [
    "def extract_mapping(df):\n",
    "    mapping = {}\n",
    "    current = None\n",
    "    papers = []\n",
    "    codes = []\n",
    "    for idx, row in enumerate(df.iterrows()):\n",
    "        row = row[1]\n",
    "        if isinstance(row[1], str):\n",
    "            if idx != 0:\n",
    "                mapping[current] = papers\n",
    "                papers= []            \n",
    "            current = row[1]       \n",
    "\n",
    "        papers.append({'univ': row[2], 'paper': row[3], 'group': row[4]})\n",
    "\n",
    "    mapping[current] = papers\n",
    "    return mapping"
   ]
  },
  {
   "cell_type": "code",
   "execution_count": 8,
   "metadata": {},
   "outputs": [
    {
     "name": "stdout",
     "output_type": "stream",
     "text": [
      "29\n",
      "718\n"
     ]
    }
   ],
   "source": [
    "print(len(mapping))\n",
    "a = 0\n",
    "for i in mapping.keys():\n",
    "    a += len(mapping[i])\n",
    "\n",
    "mapping.keys()\n",
    "print(a)"
   ]
  },
  {
   "cell_type": "code",
   "execution_count": 14,
   "metadata": {},
   "outputs": [],
   "source": [
    "def generate_paper_codes(mapping):\n",
    "    mapping2 = []\n",
    "    total_codes = 0\n",
    "    for subj in mapping.keys():\n",
    "        code_str = ''\n",
    "        val = mapping[subj]\n",
    "        univ = ''\n",
    "        subject = subj.split('(')[0].rstrip()\n",
    "        total_codes += len(val)\n",
    "        for i in val:\n",
    "            #print(i)\n",
    "            if i['univ'] == univ:\n",
    "                code_str = code_str + i['paper'] + '|'\n",
    "            elif univ!='':\n",
    "                #print(univ)\n",
    "                # create name string, substring code_str and save to list\n",
    "                code_str = code_str[:-1]\n",
    "                name = (univ + \"_\" + subject + \"_paper_code\").lower()\n",
    "                name =name.replace(\" \", \"_\")\n",
    "                mapping2.append({'subject':subject, 'name': name, 'paper_codes': code_str})\n",
    "                univ = i['univ']\n",
    "                code_str = i['paper'] + '|'\n",
    "            else:\n",
    "                univ = i['univ']\n",
    "                code_str = code_str + i['paper'] + '|'\n",
    "\n",
    "        # Last element is not getting saved, save it\n",
    "        code_str = code_str[:-1]\n",
    "        name = (univ + \"_\" + subject + \"_paper_code\").lower()\n",
    "        name =name.replace(\" \", \"_\")\n",
    "        mapping2.append({'subject':subject, 'name': name, 'paper_codes': code_str})\n",
    "    \n",
    "    return mapping2\n",
    "    "
   ]
  },
  {
   "cell_type": "markdown",
   "metadata": {},
   "source": [
    "## Generate Mapping for Btech"
   ]
  },
  {
   "cell_type": "code",
   "execution_count": 15,
   "metadata": {},
   "outputs": [
    {
     "name": "stdout",
     "output_type": "stream",
     "text": [
      "718\n",
      "296\n"
     ]
    }
   ],
   "source": [
    "df = pd.read_csv(csv_path)  \n",
    "mapping = extract_mapping(df)\n",
    "a = 0\n",
    "for i in mapping.keys():\n",
    "    a += len(mapping[i])\n",
    "print(a)\n",
    "\n",
    "mapping2 = generate_paper_codes(mapping)\n",
    "print(len(mapping2))\n"
   ]
  },
  {
   "cell_type": "markdown",
   "metadata": {},
   "source": [
    "#### Save Mapping for Btech"
   ]
  },
  {
   "cell_type": "code",
   "execution_count": 20,
   "metadata": {
    "collapsed": true
   },
   "outputs": [],
   "source": [
    "d = pd.DataFrame(mapping2)\n",
    "d.to_csv('paper_codes.csv')"
   ]
  },
  {
   "cell_type": "code",
   "execution_count": 17,
   "metadata": {
    "scrolled": true
   },
   "outputs": [
    {
     "name": "stdout",
     "output_type": "stream",
     "text": [
      "29\n",
      "31\n",
      "28\n",
      "29\n",
      "29\n",
      "31\n",
      "30\n",
      "30\n",
      "31\n",
      "                                               subject  \\\n",
      "0                                       Data Structure   \n",
      "10                          Database management System   \n",
      "20                                    Operating System   \n",
      "30                               Theory of Computation   \n",
      "40                               Engineering Mechanics   \n",
      "53                                Heat & Mass Transfer   \n",
      "63                                      Discrete Maths   \n",
      "73                                      Thermodynamics   \n",
      "83                                      Soil Mechanics   \n",
      "100                                            Maths-I   \n",
      "110                                           Maths-II   \n",
      "120                                          Surveying   \n",
      "130                                                RCC   \n",
      "140                                          Maths-III   \n",
      "150                                    Fluid Mechanics   \n",
      "160                               Strength of Material   \n",
      "170                             Production Engineering   \n",
      "180                                    Analog Circuits   \n",
      "190                                     Control System   \n",
      "200                       Basic Electrical Engineering   \n",
      "210                                 Electrical Machine   \n",
      "220                                 Electrical Machine   \n",
      "230                                Signals and Systems   \n",
      "240                    Electronic Devices and Circuits   \n",
      "249                                Digital Electronics   \n",
      "259                     Network Analysis and Synthesis   \n",
      "269  Electrical Measurements and Measuring Instruments   \n",
      "277            Analog and Digital Communication System   \n",
      "287      Fundamentals of Computer and Programming in C   \n",
      "\n",
      "                                                  name  \\\n",
      "0                       aktu_data_structure_paper_code   \n",
      "10          aktu_database_management_system_paper_code   \n",
      "20                    aktu_operating_system_paper_code   \n",
      "30               aktu_theory_of_computation_paper_code   \n",
      "40               aktu_engineering_mechanics_paper_code   \n",
      "53                aktu_heat_&_mass_transfer_paper_code   \n",
      "63                      aktu_discrete_maths_paper_code   \n",
      "73                      aktu_thermodynamics_paper_code   \n",
      "83                      aktu_soil_mechanics_paper_code   \n",
      "100                            aktu_maths-i_paper_code   \n",
      "110                           aktu_maths-ii_paper_code   \n",
      "120                          aktu_surveying_paper_code   \n",
      "130                                aktu_rcc_paper_code   \n",
      "140                          aktu_maths-iii_paper_code   \n",
      "150                    aktu_fluid_mechanics_paper_code   \n",
      "160               aktu_strength_of_material_paper_code   \n",
      "170             aktu_production_engineering_paper_code   \n",
      "180                    aktu_analog_circuits_paper_code   \n",
      "190                     aktu_control_system_paper_code   \n",
      "200       aktu_basic_electrical_engineering_paper_code   \n",
      "210                 aktu_electrical_machine_paper_code   \n",
      "220                 aktu_electrical_machine_paper_code   \n",
      "230                aktu_signals_and_systems_paper_code   \n",
      "240    aktu_electronic_devices_and_circuits_paper_code   \n",
      "249                aktu_digital_electronics_paper_code   \n",
      "259     aktu_network_analysis_and_synthesis_paper_code   \n",
      "269  aktu_electrical_measurements_and_measuring_ins...   \n",
      "277  aktu_analog_and_digital_communication_system_p...   \n",
      "287  aktu_fundamentals_of_computer_and_programming_...   \n",
      "\n",
      "                     paper_codes  \n",
      "0                  KCS301|RCS305  \n",
      "10                        RCS501  \n",
      "20                        KCS401  \n",
      "30                 KCS402|RCS403  \n",
      "40                        KME402  \n",
      "53                RME502|RME502A  \n",
      "63                 KCS303|RCS301  \n",
      "73                 KAE301|KME301  \n",
      "83                       RCE-501  \n",
      "100                       KAS103  \n",
      "110                       KAS203  \n",
      "120                KCE302|RCE402  \n",
      "130              NCE-505|NCE‐601  \n",
      "140                KAS303|KAS403  \n",
      "150                KCE303|KME302  \n",
      "160         KAE403|KCE402|RME303  \n",
      "170  KAE402|KME403|RME503|RME505  \n",
      "180                       KEC402  \n",
      "190                RIC603|REE503  \n",
      "200                KEE101|KEE201  \n",
      "210                KEE402|RIC053  \n",
      "220                REE064|REE501  \n",
      "230                KEC403|KEE303  \n",
      "240                       KEC301  \n",
      "249                KEC302|KEE401  \n",
      "259                KEC303|KEE403  \n",
      "269                       KEE302  \n",
      "277         KEC401|REE052|REC602  \n",
      "287                KCS101|KCS201  \n"
     ]
    }
   ],
   "source": [
    "print(len(d[d['name'].str.contains('aktu')]))\n",
    "print(len(d[d['name'].str.contains('dbatu')]))\n",
    "print(len(d[d['name'].str.contains('ikgptu')]))\n",
    "print(len(d[d['name'].str.contains('rtu')]))\n",
    "print(len(d[d['name'].str.contains('gtu')]))\n",
    "print(len(d[d['name'].str.contains('ggsipu')]))\n",
    "print(len(d[d['name'].str.contains('jcbust')]))\n",
    "print(len(d[d['name'].str.contains('makaut')]))\n",
    "print(len(d[d['name'].str.contains('mrsptu')]))\n",
    "\n",
    "\n",
    "\n",
    "print(d[d['name'].str.contains('aktu')])"
   ]
  },
  {
   "cell_type": "markdown",
   "metadata": {},
   "source": [
    "## Generate paper codes for Diploma"
   ]
  },
  {
   "cell_type": "code",
   "execution_count": 22,
   "metadata": {},
   "outputs": [
    {
     "name": "stdout",
     "output_type": "stream",
     "text": [
      "325\n",
      "233\n"
     ]
    }
   ],
   "source": [
    "df = pd.read_csv(diploma_csv_path)  \n",
    "mapping = extract_mapping(df)\n",
    "a = 0\n",
    "for i in mapping.keys():\n",
    "    a += len(mapping[i])\n",
    "print(a)\n",
    "\n",
    "mapping2 = generate_paper_codes(mapping)\n",
    "print(len(mapping2))"
   ]
  },
  {
   "cell_type": "markdown",
   "metadata": {
    "collapsed": true
   },
   "source": [
    "Save Paper codes for Diploma"
   ]
  },
  {
   "cell_type": "code",
   "execution_count": 23,
   "metadata": {
    "collapsed": true
   },
   "outputs": [],
   "source": [
    "d = pd.DataFrame(mapping2)\n",
    "d.to_csv('paper_codes_diploma.csv')"
   ]
  },
  {
   "cell_type": "code",
   "execution_count": null,
   "metadata": {
    "collapsed": true
   },
   "outputs": [],
   "source": []
  }
 ],
 "metadata": {
  "kernelspec": {
   "display_name": "Python 3",
   "language": "python",
   "name": "python3"
  },
  "language_info": {
   "codemirror_mode": {
    "name": "ipython",
    "version": 3
   },
   "file_extension": ".py",
   "mimetype": "text/x-python",
   "name": "python",
   "nbconvert_exporter": "python",
   "pygments_lexer": "ipython3",
   "version": "3.6.1"
  }
 },
 "nbformat": 4,
 "nbformat_minor": 2
}
