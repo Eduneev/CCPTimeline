{
 "cells": [
  {
   "cell_type": "code",
   "execution_count": 1,
   "metadata": {
    "collapsed": true
   },
   "outputs": [],
   "source": [
    "import pandas as pd\n",
    "import csv\n",
    "import math\n",
    "import os"
   ]
  },
  {
   "cell_type": "markdown",
   "metadata": {},
   "source": [
    "## BTech"
   ]
  },
  {
   "cell_type": "code",
   "execution_count": 13,
   "metadata": {
    "collapsed": true
   },
   "outputs": [],
   "source": [
    "#csv = \"C:\\\\Users\\\\sanat\\\\Desktop\\\\Work\\\\2Learn\\\\Colleges\\\\RTU.csv\"\n",
    "csv = \"C:\\\\Users\\\\sanat\\\\Desktop\\\\Work\\\\2Learn\\\\Colleges\\\\JCBUST.csv\""
   ]
  },
  {
   "cell_type": "code",
   "execution_count": 15,
   "metadata": {
    "collapsed": true
   },
   "outputs": [],
   "source": [
    "df = pd.read_csv(csv, encoding = 'utf-8')"
   ]
  },
  {
   "cell_type": "code",
   "execution_count": 16,
   "metadata": {},
   "outputs": [
    {
     "data": {
      "text/html": [
       "<div>\n",
       "<style scoped>\n",
       "    .dataframe tbody tr th:only-of-type {\n",
       "        vertical-align: middle;\n",
       "    }\n",
       "\n",
       "    .dataframe tbody tr th {\n",
       "        vertical-align: top;\n",
       "    }\n",
       "\n",
       "    .dataframe thead th {\n",
       "        text-align: right;\n",
       "    }\n",
       "</style>\n",
       "<table border=\"1\" class=\"dataframe\">\n",
       "  <thead>\n",
       "    <tr style=\"text-align: right;\">\n",
       "      <th></th>\n",
       "      <th>University</th>\n",
       "      <th>Institute</th>\n",
       "      <th>Address</th>\n",
       "      <th>D.Name</th>\n",
       "      <th>D.Design</th>\n",
       "      <th>D.Mail</th>\n",
       "      <th>Phone</th>\n",
       "      <th>Website</th>\n",
       "    </tr>\n",
       "  </thead>\n",
       "  <tbody>\n",
       "    <tr>\n",
       "      <th>0</th>\n",
       "      <td>JCBUST</td>\n",
       "      <td>Aravali College of Engineering and Management</td>\n",
       "      <td>Jasana-Tigaon Road,</td>\n",
       "      <td>Mr. Dhan Singh Bhadana</td>\n",
       "      <td>Chairman</td>\n",
       "      <td>director@acem.edu.in</td>\n",
       "      <td>NaN</td>\n",
       "      <td>acem.edu.in</td>\n",
       "    </tr>\n",
       "    <tr>\n",
       "      <th>1</th>\n",
       "      <td>JCBUST</td>\n",
       "      <td>BS Anangpuria Instt of Tech and mAnagement</td>\n",
       "      <td>Ballabgarh-Sohna</td>\n",
       "      <td>Prof (Dr) S S Tyagi</td>\n",
       "      <td>Director</td>\n",
       "      <td>bsaei@anangpuria.com</td>\n",
       "      <td>NaN</td>\n",
       "      <td>NaN</td>\n",
       "    </tr>\n",
       "    <tr>\n",
       "      <th>2</th>\n",
       "      <td>JCBUST</td>\n",
       "      <td>Echelon Instt of Technology</td>\n",
       "      <td>Kabulpur,Jasana-Manjhawali Road,\\r\\nFaridabad,...</td>\n",
       "      <td>Shri Prabhat Agarwal</td>\n",
       "      <td>Chairman</td>\n",
       "      <td>director@eitfaridabad.com</td>\n",
       "      <td>9718312584, 9999753763</td>\n",
       "      <td>NaN</td>\n",
       "    </tr>\n",
       "    <tr>\n",
       "      <th>3</th>\n",
       "      <td>JCBUST</td>\n",
       "      <td>Rawal Instt of Engg and Tech</td>\n",
       "      <td>Sohna Road, Near Zakopur, Faridabad</td>\n",
       "      <td>Prof. (Dr.) B. K. Singh</td>\n",
       "      <td>Director</td>\n",
       "      <td>director@rawalinstitutions.com</td>\n",
       "      <td>0129-2400400, 08860609801, 08860609802, 088606...</td>\n",
       "      <td>director@riet.in</td>\n",
       "    </tr>\n",
       "    <tr>\n",
       "      <th>4</th>\n",
       "      <td>JCBUST</td>\n",
       "      <td>Satyug Darshan Insst of Enn and Tech</td>\n",
       "      <td>Satyug Darshan Institute of Engineering &amp; Tech...</td>\n",
       "      <td>PROF. MOHD. NOOR DESMUKH</td>\n",
       "      <td>Director</td>\n",
       "      <td>Director@sdiet.in, director@satyug.edu.in</td>\n",
       "      <td>7838800000,</td>\n",
       "      <td>NaN</td>\n",
       "    </tr>\n",
       "    <tr>\n",
       "      <th>5</th>\n",
       "      <td>JCBUST</td>\n",
       "      <td>Advanced Instt of Engg and Technology</td>\n",
       "      <td>70 K.M., Delhi-Mathura Road,\\r\\nDist. Palwal, ...</td>\n",
       "      <td>Dr. R. S. Chaudhary</td>\n",
       "      <td>Director</td>\n",
       "      <td>director@advancedinstitutions.com</td>\n",
       "      <td>01275-298300</td>\n",
       "      <td>NaN</td>\n",
       "    </tr>\n",
       "    <tr>\n",
       "      <th>6</th>\n",
       "      <td>JCBUST</td>\n",
       "      <td>Delhi College of Tech and Mangement</td>\n",
       "      <td>77th KM Stone, NH-44 DELHI-NCR, Distt-Palwal, ...</td>\n",
       "      <td>Prof.(Dr.) Leewis Kulshrestha</td>\n",
       "      <td>Principal</td>\n",
       "      <td>principal@dctm.edu.in</td>\n",
       "      <td>9810219253, +91 9910883592</td>\n",
       "      <td>NaN</td>\n",
       "    </tr>\n",
       "    <tr>\n",
       "      <th>7</th>\n",
       "      <td>JCBUST</td>\n",
       "      <td>NGF College of Engg and Technology</td>\n",
       "      <td>71st K.M. Stone, Delhi-Mathura Road, NH-2, Far...</td>\n",
       "      <td>Mr. Sharat Kaushik</td>\n",
       "      <td>Director</td>\n",
       "      <td>adm@ngfcet.com,onlineadm@ngfcet.com</td>\n",
       "      <td>9896582211</td>\n",
       "      <td>NaN</td>\n",
       "    </tr>\n",
       "    <tr>\n",
       "      <th>8</th>\n",
       "      <td>JCBUST</td>\n",
       "      <td>Shri Ram College of Engg and Management</td>\n",
       "      <td>70 KM Stone, main Delhi-Mathura Road, NH-2,Pal...</td>\n",
       "      <td>Prof. (Dr.) S.K. Gupta</td>\n",
       "      <td>Director</td>\n",
       "      <td>info@srcem.ac.in</td>\n",
       "      <td>01275-298198,298199</td>\n",
       "      <td>NaN</td>\n",
       "    </tr>\n",
       "    <tr>\n",
       "      <th>9</th>\n",
       "      <td>JCBUST</td>\n",
       "      <td>Satya College of Engg and Tech</td>\n",
       "      <td>NaN</td>\n",
       "      <td>Amrik Singh</td>\n",
       "      <td>CEO</td>\n",
       "      <td>�info@satyaedu.org</td>\n",
       "      <td>9899 26 9899 / +91 9050 99 9555</td>\n",
       "      <td>NaN</td>\n",
       "    </tr>\n",
       "  </tbody>\n",
       "</table>\n",
       "</div>"
      ],
      "text/plain": [
       "  University                                      Institute  \\\n",
       "0     JCBUST  Aravali College of Engineering and Management   \n",
       "1     JCBUST     BS Anangpuria Instt of Tech and mAnagement   \n",
       "2     JCBUST                    Echelon Instt of Technology   \n",
       "3     JCBUST                   Rawal Instt of Engg and Tech   \n",
       "4     JCBUST           Satyug Darshan Insst of Enn and Tech   \n",
       "5     JCBUST          Advanced Instt of Engg and Technology   \n",
       "6     JCBUST            Delhi College of Tech and Mangement   \n",
       "7     JCBUST             NGF College of Engg and Technology   \n",
       "8     JCBUST        Shri Ram College of Engg and Management   \n",
       "9     JCBUST                 Satya College of Engg and Tech   \n",
       "\n",
       "                                             Address  \\\n",
       "0                                Jasana-Tigaon Road,   \n",
       "1                                   Ballabgarh-Sohna   \n",
       "2  Kabulpur,Jasana-Manjhawali Road,\\r\\nFaridabad,...   \n",
       "3                Sohna Road, Near Zakopur, Faridabad   \n",
       "4  Satyug Darshan Institute of Engineering & Tech...   \n",
       "5  70 K.M., Delhi-Mathura Road,\\r\\nDist. Palwal, ...   \n",
       "6  77th KM Stone, NH-44 DELHI-NCR, Distt-Palwal, ...   \n",
       "7  71st K.M. Stone, Delhi-Mathura Road, NH-2, Far...   \n",
       "8  70 KM Stone, main Delhi-Mathura Road, NH-2,Pal...   \n",
       "9                                                NaN   \n",
       "\n",
       "                          D.Name   D.Design  \\\n",
       "0         Mr. Dhan Singh Bhadana   Chairman   \n",
       "1            Prof (Dr) S S Tyagi   Director   \n",
       "2           Shri Prabhat Agarwal   Chairman   \n",
       "3        Prof. (Dr.) B. K. Singh   Director   \n",
       "4       PROF. MOHD. NOOR DESMUKH   Director   \n",
       "5            Dr. R. S. Chaudhary   Director   \n",
       "6  Prof.(Dr.) Leewis Kulshrestha  Principal   \n",
       "7             Mr. Sharat Kaushik   Director   \n",
       "8         Prof. (Dr.) S.K. Gupta   Director   \n",
       "9                    Amrik Singh        CEO   \n",
       "\n",
       "                                      D.Mail  \\\n",
       "0                       director@acem.edu.in   \n",
       "1                       bsaei@anangpuria.com   \n",
       "2                  director@eitfaridabad.com   \n",
       "3             director@rawalinstitutions.com   \n",
       "4  Director@sdiet.in, director@satyug.edu.in   \n",
       "5          director@advancedinstitutions.com   \n",
       "6                      principal@dctm.edu.in   \n",
       "7        adm@ngfcet.com,onlineadm@ngfcet.com   \n",
       "8                           info@srcem.ac.in   \n",
       "9                         �info@satyaedu.org   \n",
       "\n",
       "                                               Phone           Website  \n",
       "0                                                NaN       acem.edu.in  \n",
       "1                                                NaN               NaN  \n",
       "2                             9718312584, 9999753763               NaN  \n",
       "3  0129-2400400, 08860609801, 08860609802, 088606...  director@riet.in  \n",
       "4                                        7838800000,               NaN  \n",
       "5                                       01275-298300               NaN  \n",
       "6                         9810219253, +91 9910883592               NaN  \n",
       "7                                         9896582211               NaN  \n",
       "8                                01275-298198,298199               NaN  \n",
       "9                    9899 26 9899 / +91 9050 99 9555               NaN  "
      ]
     },
     "execution_count": 16,
     "metadata": {},
     "output_type": "execute_result"
    }
   ],
   "source": [
    "df"
   ]
  },
  {
   "cell_type": "code",
   "execution_count": 17,
   "metadata": {},
   "outputs": [
    {
     "data": {
      "text/plain": [
       "Index(['University', 'Institute', 'Address', 'D.Name', 'D.Design', 'D.Mail',\n",
       "       'Phone', 'Website'],\n",
       "      dtype='object')"
      ]
     },
     "execution_count": 17,
     "metadata": {},
     "output_type": "execute_result"
    }
   ],
   "source": [
    "df.keys()"
   ]
  },
  {
   "cell_type": "code",
   "execution_count": 20,
   "metadata": {},
   "outputs": [
    {
     "name": "stdout",
     "output_type": "stream",
     "text": [
      "11 11\n"
     ]
    }
   ],
   "source": [
    "try:\n",
    "    a = df['Institute']\n",
    "except:\n",
    "    if 'Institute ' in df.columns:\n",
    "        a = df['Institute ']\n",
    "    else:\n",
    "        a = df['Name']\n",
    "    \n",
    "a = [x.strip() for x in a]\n",
    "a = [x.rstrip(',') for x in a]\n",
    "a = [x.rstrip('.') for x in a]\n",
    "a = [x.replace(\"\\n\", \" \") for x in a]\n",
    "a.append(\"OTHER\")\n",
    "\n",
    "if 'Ref #' in df.columns:\n",
    "    b = df['Ref #'].tolist()\n",
    "    inst = b[0].split(\"_\")[0]\n",
    "    b.append(inst + \"_\" + str(len(b)+1))\n",
    "else:\n",
    "    if 'University' in df:\n",
    "        inst = df['University'][0]\n",
    "    else:            \n",
    "        inst = df['University '][0]\n",
    "    b = [inst + \"_\" + str(i+1) for i in range(len(df)+1)]\n",
    "\n",
    "print(len(a), len(b))\n",
    "string_v = '|'.join([a[i] + \" (\" + b[i] + \")\" for i in range(len(a))])\n"
   ]
  },
  {
   "cell_type": "code",
   "execution_count": 21,
   "metadata": {},
   "outputs": [
    {
     "data": {
      "text/plain": [
       "'Aravali College of Engineering and Management (JCBUST_1)|BS Anangpuria Instt of Tech and mAnagement (JCBUST_2)|Echelon Instt of Technology (JCBUST_3)|Rawal Instt of Engg and Tech (JCBUST_4)|Satyug Darshan Insst of Enn and Tech (JCBUST_5)|Advanced Instt of Engg and Technology (JCBUST_6)|Delhi College of Tech and Mangement (JCBUST_7)|NGF College of Engg and Technology (JCBUST_8)|Shri Ram College of Engg and Management (JCBUST_9)|Satya College of Engg and Tech (JCBUST_10)|OTHER (JCBUST_11)'"
      ]
     },
     "execution_count": 21,
     "metadata": {},
     "output_type": "execute_result"
    }
   ],
   "source": [
    "string_v"
   ]
  },
  {
   "cell_type": "markdown",
   "metadata": {},
   "source": [
    "## Combined + output to file"
   ]
  },
  {
   "cell_type": "code",
   "execution_count": 4,
   "metadata": {
    "collapsed": true
   },
   "outputs": [],
   "source": [
    "csv_folder = \"C:\\\\Users\\\\sanat\\\\Desktop\\\\Work\\\\2Learn\\\\Colleges\\\\Phase_2\"\n",
    "out_file = \"colleges_phase2.txt\"\n",
    "files = os.listdir(csv_folder)"
   ]
  },
  {
   "cell_type": "markdown",
   "metadata": {},
   "source": [
    "#### Phase 1"
   ]
  },
  {
   "cell_type": "code",
   "execution_count": 2,
   "metadata": {
    "scrolled": true
   },
   "outputs": [],
   "source": [
    "def create_colleges(files, outfile):\n",
    "    result = []\n",
    "    out = open(out_file, \"a\")\n",
    "\n",
    "    for f in files:\n",
    "        print(f)\n",
    "        df = pd.read_csv('/'.join([csv_folder, f]), encoding = 'utf-8')\n",
    "        try:\n",
    "            a = df['Institute']\n",
    "        except:\n",
    "            if 'Institute ' in df.columns:\n",
    "                a = df['Institute ']\n",
    "            else:\n",
    "                a = df['Name']\n",
    "\n",
    "        a = [x.strip() for x in a]\n",
    "        a = [x.rstrip(',') for x in a]\n",
    "        a = [x.rstrip('.') for x in a]\n",
    "        a = [x.replace(\"\\n\", \" \") for x in a]\n",
    "        a.append(\"OTHER\")\n",
    "\n",
    "        if 'Ref #' in df.columns:\n",
    "            b = df['Ref #'].tolist()\n",
    "            inst = b[0].split(\"_\")[0]\n",
    "            b.append(inst + \"_\" + str(len(b)+1))\n",
    "        else:\n",
    "            if 'University' in df:\n",
    "                inst = df['University'][0]\n",
    "            else:            \n",
    "                inst = df['University '][0]\n",
    "            b = [inst + \"_\" + str(i+1) for i in range(len(df)+1)]\n",
    "\n",
    "        string_v = '|'.join([a[i] + \" (\" + b[i] + \")\" for i in range(len(a))])\n",
    "        out.write(inst + \"\\n\")\n",
    "        out.write(string_v + \"\\n\\n\")\n",
    "\n",
    "    out.close()"
   ]
  },
  {
   "cell_type": "markdown",
   "metadata": {
    "collapsed": true
   },
   "source": [
    "#### Phase 2"
   ]
  },
  {
   "cell_type": "code",
   "execution_count": 6,
   "metadata": {
    "collapsed": true
   },
   "outputs": [],
   "source": [
    "def create_colleges_phase2(files, out_file):\n",
    "    result = []\n",
    "    out = open(out_file, \"a\")\n",
    "\n",
    "    for f in files:\n",
    "        print(f)\n",
    "        df = pd.read_csv('/'.join([csv_folder, f]), encoding = 'utf-8')\n",
    "        try:\n",
    "            a = df['College Full Name']\n",
    "        except:\n",
    "            print(df.columns)\n",
    "            #if 'College Full Name ' in df.columns:\n",
    "            #    a = df['College Full Name ']\n",
    "            #else:\n",
    "            #    a = df['Name']\n",
    "\n",
    "        a = [x.strip() for x in a]\n",
    "        a = [x.rstrip(',') for x in a]\n",
    "        a = [x.rstrip('.') for x in a]\n",
    "        a = [x.replace(\"\\n\", \" \") for x in a]\n",
    "        a.append(\"OTHER\")\n",
    "\n",
    "        if 'AU Short Name' in df.columns:\n",
    "            inst = df['AU Short Name'][0]\n",
    "            b = [inst + \"_\" + str(i+1) for i in range(len(df)+1)]\n",
    "        else:\n",
    "            assert(0)\n",
    "\n",
    "        string_v = '|'.join([a[i] + \" (\" + b[i] + \")\" for i in range(len(a))])\n",
    "        out.write(inst + \"\\n\")\n",
    "        out.write(string_v + \"\\n\\n\")\n",
    "\n",
    "    out.close()"
   ]
  },
  {
   "cell_type": "code",
   "execution_count": 8,
   "metadata": {},
   "outputs": [
    {
     "name": "stdout",
     "output_type": "stream",
     "text": [
      "List of B.Tech Colleges_ Phase II - BPUT-Odisha.csv\n",
      "List of B.Tech Colleges_ Phase II - CSVTU-CG.csv\n",
      "List of B.Tech Colleges_ Phase II - MDU-Rohtak.csv\n",
      "List of B.Tech Colleges_ Phase II - MU-MumbaiUniv.csv\n",
      "List of B.Tech Colleges_ Phase II - RTMNU-Nagpur.csv\n",
      "List of B.Tech Colleges_ Phase II - SPPU-Pune.csv\n",
      "List of B.Tech Colleges_ Phase II - UTU-UK.csv\n"
     ]
    }
   ],
   "source": [
    "create_colleges_phase2(files, out_file)"
   ]
  },
  {
   "cell_type": "code",
   "execution_count": null,
   "metadata": {
    "collapsed": true
   },
   "outputs": [],
   "source": []
  }
 ],
 "metadata": {
  "kernelspec": {
   "display_name": "Python 3",
   "language": "python",
   "name": "python3"
  },
  "language_info": {
   "codemirror_mode": {
    "name": "ipython",
    "version": 3
   },
   "file_extension": ".py",
   "mimetype": "text/x-python",
   "name": "python",
   "nbconvert_exporter": "python",
   "pygments_lexer": "ipython3",
   "version": "3.6.1"
  }
 },
 "nbformat": 4,
 "nbformat_minor": 2
}
