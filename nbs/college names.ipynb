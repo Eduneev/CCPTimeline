{
 "cells": [
  {
   "cell_type": "code",
   "execution_count": 1,
   "metadata": {
    "collapsed": true,
    "jupyter": {
     "outputs_hidden": true
    }
   },
   "outputs": [],
   "source": [
    "import pandas as pd\n",
    "import csv\n",
    "import math\n",
    "import os"
   ]
  },
  {
   "cell_type": "markdown",
   "metadata": {},
   "source": [
    "## BTech"
   ]
  },
  {
   "cell_type": "code",
   "execution_count": 13,
   "metadata": {
    "collapsed": true,
    "jupyter": {
     "outputs_hidden": true
    }
   },
   "outputs": [],
   "source": [
    "#csv = \"C:\\\\Users\\\\sanat\\\\Desktop\\\\Work\\\\2Learn\\\\Colleges\\\\RTU.csv\"\n",
    "csv = \"C:\\\\Users\\\\sanat\\\\Desktop\\\\Work\\\\2Learn\\\\Colleges\\\\JCBUST.csv\""
   ]
  },
  {
   "cell_type": "code",
   "execution_count": 15,
   "metadata": {
    "collapsed": true,
    "jupyter": {
     "outputs_hidden": true
    }
   },
   "outputs": [],
   "source": [
    "df = pd.read_csv(csv, encoding = 'utf-8')"
   ]
  },
  {
   "cell_type": "code",
   "execution_count": 16,
   "metadata": {},
   "outputs": [
    {
     "data": {
      "text/html": [
       "<div>\n",
       "<style scoped>\n",
       "    .dataframe tbody tr th:only-of-type {\n",
       "        vertical-align: middle;\n",
       "    }\n",
       "\n",
       "    .dataframe tbody tr th {\n",
       "        vertical-align: top;\n",
       "    }\n",
       "\n",
       "    .dataframe thead th {\n",
       "        text-align: right;\n",
       "    }\n",
       "</style>\n",
       "<table border=\"1\" class=\"dataframe\">\n",
       "  <thead>\n",
       "    <tr style=\"text-align: right;\">\n",
       "      <th></th>\n",
       "      <th>University</th>\n",
       "      <th>Institute</th>\n",
       "      <th>Address</th>\n",
       "      <th>D.Name</th>\n",
       "      <th>D.Design</th>\n",
       "      <th>D.Mail</th>\n",
       "      <th>Phone</th>\n",
       "      <th>Website</th>\n",
       "    </tr>\n",
       "  </thead>\n",
       "  <tbody>\n",
       "    <tr>\n",
       "      <th>0</th>\n",
       "      <td>JCBUST</td>\n",
       "      <td>Aravali College of Engineering and Management</td>\n",
       "      <td>Jasana-Tigaon Road,</td>\n",
       "      <td>Mr. Dhan Singh Bhadana</td>\n",
       "      <td>Chairman</td>\n",
       "      <td>director@acem.edu.in</td>\n",
       "      <td>NaN</td>\n",
       "      <td>acem.edu.in</td>\n",
       "    </tr>\n",
       "    <tr>\n",
       "      <th>1</th>\n",
       "      <td>JCBUST</td>\n",
       "      <td>BS Anangpuria Instt of Tech and mAnagement</td>\n",
       "      <td>Ballabgarh-Sohna</td>\n",
       "      <td>Prof (Dr) S S Tyagi</td>\n",
       "      <td>Director</td>\n",
       "      <td>bsaei@anangpuria.com</td>\n",
       "      <td>NaN</td>\n",
       "      <td>NaN</td>\n",
       "    </tr>\n",
       "    <tr>\n",
       "      <th>2</th>\n",
       "      <td>JCBUST</td>\n",
       "      <td>Echelon Instt of Technology</td>\n",
       "      <td>Kabulpur,Jasana-Manjhawali Road,\\r\\nFaridabad,...</td>\n",
       "      <td>Shri Prabhat Agarwal</td>\n",
       "      <td>Chairman</td>\n",
       "      <td>director@eitfaridabad.com</td>\n",
       "      <td>9718312584, 9999753763</td>\n",
       "      <td>NaN</td>\n",
       "    </tr>\n",
       "    <tr>\n",
       "      <th>3</th>\n",
       "      <td>JCBUST</td>\n",
       "      <td>Rawal Instt of Engg and Tech</td>\n",
       "      <td>Sohna Road, Near Zakopur, Faridabad</td>\n",
       "      <td>Prof. (Dr.) B. K. Singh</td>\n",
       "      <td>Director</td>\n",
       "      <td>director@rawalinstitutions.com</td>\n",
       "      <td>0129-2400400, 08860609801, 08860609802, 088606...</td>\n",
       "      <td>director@riet.in</td>\n",
       "    </tr>\n",
       "    <tr>\n",
       "      <th>4</th>\n",
       "      <td>JCBUST</td>\n",
       "      <td>Satyug Darshan Insst of Enn and Tech</td>\n",
       "      <td>Satyug Darshan Institute of Engineering &amp; Tech...</td>\n",
       "      <td>PROF. MOHD. NOOR DESMUKH</td>\n",
       "      <td>Director</td>\n",
       "      <td>Director@sdiet.in, director@satyug.edu.in</td>\n",
       "      <td>7838800000,</td>\n",
       "      <td>NaN</td>\n",
       "    </tr>\n",
       "    <tr>\n",
       "      <th>5</th>\n",
       "      <td>JCBUST</td>\n",
       "      <td>Advanced Instt of Engg and Technology</td>\n",
       "      <td>70 K.M., Delhi-Mathura Road,\\r\\nDist. Palwal, ...</td>\n",
       "      <td>Dr. R. S. Chaudhary</td>\n",
       "      <td>Director</td>\n",
       "      <td>director@advancedinstitutions.com</td>\n",
       "      <td>01275-298300</td>\n",
       "      <td>NaN</td>\n",
       "    </tr>\n",
       "    <tr>\n",
       "      <th>6</th>\n",
       "      <td>JCBUST</td>\n",
       "      <td>Delhi College of Tech and Mangement</td>\n",
       "      <td>77th KM Stone, NH-44 DELHI-NCR, Distt-Palwal, ...</td>\n",
       "      <td>Prof.(Dr.) Leewis Kulshrestha</td>\n",
       "      <td>Principal</td>\n",
       "      <td>principal@dctm.edu.in</td>\n",
       "      <td>9810219253, +91 9910883592</td>\n",
       "      <td>NaN</td>\n",
       "    </tr>\n",
       "    <tr>\n",
       "      <th>7</th>\n",
       "      <td>JCBUST</td>\n",
       "      <td>NGF College of Engg and Technology</td>\n",
       "      <td>71st K.M. Stone, Delhi-Mathura Road, NH-2, Far...</td>\n",
       "      <td>Mr. Sharat Kaushik</td>\n",
       "      <td>Director</td>\n",
       "      <td>adm@ngfcet.com,onlineadm@ngfcet.com</td>\n",
       "      <td>9896582211</td>\n",
       "      <td>NaN</td>\n",
       "    </tr>\n",
       "    <tr>\n",
       "      <th>8</th>\n",
       "      <td>JCBUST</td>\n",
       "      <td>Shri Ram College of Engg and Management</td>\n",
       "      <td>70 KM Stone, main Delhi-Mathura Road, NH-2,Pal...</td>\n",
       "      <td>Prof. (Dr.) S.K. Gupta</td>\n",
       "      <td>Director</td>\n",
       "      <td>info@srcem.ac.in</td>\n",
       "      <td>01275-298198,298199</td>\n",
       "      <td>NaN</td>\n",
       "    </tr>\n",
       "    <tr>\n",
       "      <th>9</th>\n",
       "      <td>JCBUST</td>\n",
       "      <td>Satya College of Engg and Tech</td>\n",
       "      <td>NaN</td>\n",
       "      <td>Amrik Singh</td>\n",
       "      <td>CEO</td>\n",
       "      <td>�info@satyaedu.org</td>\n",
       "      <td>9899 26 9899 / +91 9050 99 9555</td>\n",
       "      <td>NaN</td>\n",
       "    </tr>\n",
       "  </tbody>\n",
       "</table>\n",
       "</div>"
      ],
      "text/plain": [
       "  University                                      Institute  \\\n",
       "0     JCBUST  Aravali College of Engineering and Management   \n",
       "1     JCBUST     BS Anangpuria Instt of Tech and mAnagement   \n",
       "2     JCBUST                    Echelon Instt of Technology   \n",
       "3     JCBUST                   Rawal Instt of Engg and Tech   \n",
       "4     JCBUST           Satyug Darshan Insst of Enn and Tech   \n",
       "5     JCBUST          Advanced Instt of Engg and Technology   \n",
       "6     JCBUST            Delhi College of Tech and Mangement   \n",
       "7     JCBUST             NGF College of Engg and Technology   \n",
       "8     JCBUST        Shri Ram College of Engg and Management   \n",
       "9     JCBUST                 Satya College of Engg and Tech   \n",
       "\n",
       "                                             Address  \\\n",
       "0                                Jasana-Tigaon Road,   \n",
       "1                                   Ballabgarh-Sohna   \n",
       "2  Kabulpur,Jasana-Manjhawali Road,\\r\\nFaridabad,...   \n",
       "3                Sohna Road, Near Zakopur, Faridabad   \n",
       "4  Satyug Darshan Institute of Engineering & Tech...   \n",
       "5  70 K.M., Delhi-Mathura Road,\\r\\nDist. Palwal, ...   \n",
       "6  77th KM Stone, NH-44 DELHI-NCR, Distt-Palwal, ...   \n",
       "7  71st K.M. Stone, Delhi-Mathura Road, NH-2, Far...   \n",
       "8  70 KM Stone, main Delhi-Mathura Road, NH-2,Pal...   \n",
       "9                                                NaN   \n",
       "\n",
       "                          D.Name   D.Design  \\\n",
       "0         Mr. Dhan Singh Bhadana   Chairman   \n",
       "1            Prof (Dr) S S Tyagi   Director   \n",
       "2           Shri Prabhat Agarwal   Chairman   \n",
       "3        Prof. (Dr.) B. K. Singh   Director   \n",
       "4       PROF. MOHD. NOOR DESMUKH   Director   \n",
       "5            Dr. R. S. Chaudhary   Director   \n",
       "6  Prof.(Dr.) Leewis Kulshrestha  Principal   \n",
       "7             Mr. Sharat Kaushik   Director   \n",
       "8         Prof. (Dr.) S.K. Gupta   Director   \n",
       "9                    Amrik Singh        CEO   \n",
       "\n",
       "                                      D.Mail  \\\n",
       "0                       director@acem.edu.in   \n",
       "1                       bsaei@anangpuria.com   \n",
       "2                  director@eitfaridabad.com   \n",
       "3             director@rawalinstitutions.com   \n",
       "4  Director@sdiet.in, director@satyug.edu.in   \n",
       "5          director@advancedinstitutions.com   \n",
       "6                      principal@dctm.edu.in   \n",
       "7        adm@ngfcet.com,onlineadm@ngfcet.com   \n",
       "8                           info@srcem.ac.in   \n",
       "9                         �info@satyaedu.org   \n",
       "\n",
       "                                               Phone           Website  \n",
       "0                                                NaN       acem.edu.in  \n",
       "1                                                NaN               NaN  \n",
       "2                             9718312584, 9999753763               NaN  \n",
       "3  0129-2400400, 08860609801, 08860609802, 088606...  director@riet.in  \n",
       "4                                        7838800000,               NaN  \n",
       "5                                       01275-298300               NaN  \n",
       "6                         9810219253, +91 9910883592               NaN  \n",
       "7                                         9896582211               NaN  \n",
       "8                                01275-298198,298199               NaN  \n",
       "9                    9899 26 9899 / +91 9050 99 9555               NaN  "
      ]
     },
     "execution_count": 16,
     "metadata": {},
     "output_type": "execute_result"
    }
   ],
   "source": [
    "df"
   ]
  },
  {
   "cell_type": "code",
   "execution_count": 17,
   "metadata": {},
   "outputs": [
    {
     "data": {
      "text/plain": [
       "Index(['University', 'Institute', 'Address', 'D.Name', 'D.Design', 'D.Mail',\n",
       "       'Phone', 'Website'],\n",
       "      dtype='object')"
      ]
     },
     "execution_count": 17,
     "metadata": {},
     "output_type": "execute_result"
    }
   ],
   "source": [
    "df.keys()"
   ]
  },
  {
   "cell_type": "code",
   "execution_count": 20,
   "metadata": {},
   "outputs": [
    {
     "name": "stdout",
     "output_type": "stream",
     "text": [
      "11 11\n"
     ]
    }
   ],
   "source": [
    "try:\n",
    "    a = df['Institute']\n",
    "except:\n",
    "    if 'Institute ' in df.columns:\n",
    "        a = df['Institute ']\n",
    "    else:\n",
    "        a = df['Name']\n",
    "    \n",
    "a = [x.strip() for x in a]\n",
    "a = [x.rstrip(',') for x in a]\n",
    "a = [x.rstrip('.') for x in a]\n",
    "a = [x.replace(\"\\n\", \" \") for x in a]\n",
    "a.append(\"OTHER\")\n",
    "\n",
    "if 'Ref #' in df.columns:\n",
    "    b = df['Ref #'].tolist()\n",
    "    inst = b[0].split(\"_\")[0]\n",
    "    b.append(inst + \"_\" + str(len(b)+1))\n",
    "else:\n",
    "    if 'University' in df:\n",
    "        inst = df['University'][0]\n",
    "    else:            \n",
    "        inst = df['University '][0]\n",
    "    b = [inst + \"_\" + str(i+1) for i in range(len(df)+1)]\n",
    "\n",
    "print(len(a), len(b))\n",
    "string_v = '|'.join([a[i] + \" (\" + b[i] + \")\" for i in range(len(a))])\n"
   ]
  },
  {
   "cell_type": "code",
   "execution_count": 21,
   "metadata": {},
   "outputs": [
    {
     "data": {
      "text/plain": [
       "'Aravali College of Engineering and Management (JCBUST_1)|BS Anangpuria Instt of Tech and mAnagement (JCBUST_2)|Echelon Instt of Technology (JCBUST_3)|Rawal Instt of Engg and Tech (JCBUST_4)|Satyug Darshan Insst of Enn and Tech (JCBUST_5)|Advanced Instt of Engg and Technology (JCBUST_6)|Delhi College of Tech and Mangement (JCBUST_7)|NGF College of Engg and Technology (JCBUST_8)|Shri Ram College of Engg and Management (JCBUST_9)|Satya College of Engg and Tech (JCBUST_10)|OTHER (JCBUST_11)'"
      ]
     },
     "execution_count": 21,
     "metadata": {},
     "output_type": "execute_result"
    }
   ],
   "source": [
    "string_v"
   ]
  },
  {
   "cell_type": "markdown",
   "metadata": {},
   "source": [
    "## Combined + output to file"
   ]
  },
  {
   "cell_type": "code",
   "execution_count": 33,
   "metadata": {
    "collapsed": true,
    "jupyter": {
     "outputs_hidden": true
    }
   },
   "outputs": [],
   "source": [
    "csv_folder = \"C:\\\\Users\\\\sanat\\\\Desktop\\\\Work\\\\2Learn\\\\Colleges\\\\Phase_2\"\n",
    "out_file = \"colleges_phase2.txt\"\n",
    "files = os.listdir(csv_folder)"
   ]
  },
  {
   "cell_type": "markdown",
   "metadata": {},
   "source": [
    "#### Phase 1"
   ]
  },
  {
   "cell_type": "code",
   "execution_count": 30,
   "metadata": {
    "collapsed": true,
    "jupyter": {
     "outputs_hidden": true
    },
    "scrolled": true
   },
   "outputs": [],
   "source": [
    "def create_colleges(files, outfile):\n",
    "    result = []\n",
    "    out = open(out_file, \"a\")\n",
    "\n",
    "    for f in files:\n",
    "        if not f.endswith('csv'): continue\n",
    "        print(f)\n",
    "        df = pd.read_csv('/'.join([csv_folder, f]), encoding = 'utf-8')\n",
    "        try:\n",
    "            a = df['Institute']\n",
    "        except:\n",
    "            if 'Institute ' in df.columns:\n",
    "                a = df['Institute ']\n",
    "            else:\n",
    "                a = df['Name']\n",
    "\n",
    "        a = [x.strip() for x in a]\n",
    "        a = [x.rstrip(',') for x in a]\n",
    "        a = [x.rstrip('.') for x in a]\n",
    "        a = [x.replace(\"\\n\", \" \") for x in a]\n",
    "        \n",
    "        a.sort()        \n",
    "        a.append(\"OTHER\")\n",
    "\n",
    "        if 'Ref #' in df.columns:\n",
    "            #b = df['Ref #'].tolist()\n",
    "            inst = df['Ref #'].tolist()[0].split(\"_\")[0]\n",
    "            b = [inst + \"_\" + str(i+1) for i in range(len(df)+1)]\n",
    "            #b.append(inst + \"_\" + str(len(b)+1))\n",
    "        else:\n",
    "            if 'University' in df:\n",
    "                inst = df['University'][0]\n",
    "            else:            \n",
    "                inst = df['University '][0]\n",
    "            b = [inst + \"_\" + str(i+1) for i in range(len(df)+1)]\n",
    "\n",
    "        string_v = '|'.join([a[i] + \" (\" + b[i] + \")\" for i in range(len(a))])\n",
    "        out.write(inst + \"\\n\")\n",
    "        out.write(string_v + \"\\n\\n\")\n",
    "\n",
    "    out.close()"
   ]
  },
  {
   "cell_type": "code",
   "execution_count": 31,
   "metadata": {},
   "outputs": [
    {
     "name": "stdout",
     "output_type": "stream",
     "text": [
      "AKTU.csv\n",
      "BTE COLLEGE data.xlsx - DLBTE.csv\n",
      "BTE COLLEGE data.xlsx - GJBTE.csv\n",
      "BTE COLLEGE data.xlsx - HRBTE.csv\n",
      "BTE COLLEGE data.xlsx - MPBTE.csv\n",
      "BTE COLLEGE data.xlsx - MSBTE.csv\n",
      "BTE COLLEGE data.xlsx - PBBTE.csv\n",
      "BTE COLLEGE data.xlsx - RJBTE.csv\n",
      "BTE COLLEGE data.xlsx - UPBTE.csv\n",
      "BTE COLLEGE data.xlsx - WBBTE.csv\n",
      "DBATU.csv\n",
      "GGSIPU.csv\n",
      "GTU.csv\n",
      "IKGPTU.csv\n",
      "JCBUST.csv\n",
      "MAKAUT.csv\n",
      "MRSPTU.csv\n",
      "RGPV.csv\n",
      "RTU.csv\n"
     ]
    }
   ],
   "source": [
    "create_colleges(files, out_file)"
   ]
  },
  {
   "cell_type": "markdown",
   "metadata": {},
   "source": [
    "#### Phase 2"
   ]
  },
  {
   "cell_type": "code",
   "execution_count": 34,
   "metadata": {
    "collapsed": true,
    "jupyter": {
     "outputs_hidden": true
    }
   },
   "outputs": [],
   "source": [
    "def create_colleges_phase2(files, out_file):\n",
    "    result = []\n",
    "    out = open(out_file, \"a\")\n",
    "\n",
    "    for f in files:\n",
    "        print(f)\n",
    "        df = pd.read_csv('/'.join([csv_folder, f]), encoding = 'utf-8')\n",
    "        try:\n",
    "            a = df['College Full Name']\n",
    "        except:\n",
    "            print(df.columns)\n",
    "            #if 'College Full Name ' in df.columns:\n",
    "            #    a = df['College Full Name ']\n",
    "            #else:\n",
    "            #    a = df['Name']\n",
    "\n",
    "        a = [x.strip() for x in a]\n",
    "        a = [x.rstrip(',') for x in a]\n",
    "        a = [x.rstrip('.') for x in a]\n",
    "        a = [x.replace(\"\\n\", \" \") for x in a]\n",
    "        a.sort()\n",
    "        a.append(\"OTHER\")\n",
    "\n",
    "        if 'AU Short Name' in df.columns:\n",
    "            inst = df['AU Short Name'][0]\n",
    "            b = [inst + \"_\" + str(i+1) for i in range(len(df)+1)]\n",
    "        else:\n",
    "            assert(0)\n",
    "\n",
    "        string_v = '|'.join([a[i] + \" (\" + b[i] + \")\" for i in range(len(a))])\n",
    "        out.write(inst + \"\\n\")\n",
    "        out.write(string_v + \"\\n\\n\")\n",
    "\n",
    "    out.close()"
   ]
  },
  {
   "cell_type": "code",
   "execution_count": 35,
   "metadata": {},
   "outputs": [
    {
     "name": "stdout",
     "output_type": "stream",
     "text": [
      "List of B.Tech Colleges_ Phase II - BPUT-Odisha.csv\n",
      "List of B.Tech Colleges_ Phase II - CSVTU-CG.csv\n",
      "List of B.Tech Colleges_ Phase II - MDU-Rohtak.csv\n",
      "List of B.Tech Colleges_ Phase II - MU-MumbaiUniv.csv\n",
      "List of B.Tech Colleges_ Phase II - RTMNU-Nagpur.csv\n",
      "List of B.Tech Colleges_ Phase II - SPPU-Pune.csv\n",
      "List of B.Tech Colleges_ Phase II - UTU-UK.csv\n"
     ]
    }
   ],
   "source": [
    "create_colleges_phase2(files, out_file)"
   ]
  },
  {
   "cell_type": "code",
   "execution_count": 42,
   "metadata": {},
   "outputs": [
    {
     "data": {
      "text/html": [
       "<div>\n",
       "<style scoped>\n",
       "    .dataframe tbody tr th:only-of-type {\n",
       "        vertical-align: middle;\n",
       "    }\n",
       "\n",
       "    .dataframe tbody tr th {\n",
       "        vertical-align: top;\n",
       "    }\n",
       "\n",
       "    .dataframe thead th {\n",
       "        text-align: right;\n",
       "    }\n",
       "</style>\n",
       "<table border=\"1\" class=\"dataframe\">\n",
       "  <thead>\n",
       "    <tr style=\"text-align: right;\">\n",
       "      <th></th>\n",
       "      <th>SN</th>\n",
       "      <th>Institute</th>\n",
       "      <th>NAME OF INSTITUTES</th>\n",
       "      <th>ADDRESS</th>\n",
       "      <th>District</th>\n",
       "    </tr>\n",
       "  </thead>\n",
       "  <tbody>\n",
       "    <tr>\n",
       "      <th>0</th>\n",
       "      <td>1</td>\n",
       "      <td>Advait Vedanta Institute of Technology, Jaipur...</td>\n",
       "      <td>Advait Vedanta Institute of Technology</td>\n",
       "      <td>Adved Knowledge Park Kanota-Sambhariya Road  V...</td>\n",
       "      <td>Jaipur</td>\n",
       "    </tr>\n",
       "    <tr>\n",
       "      <th>1</th>\n",
       "      <td>2</td>\n",
       "      <td>Anand International College of Engineering, Ja...</td>\n",
       "      <td>Anand International College of Engineering</td>\n",
       "      <td>814, Near Kanota  Agra Road  Jaipur-303012</td>\n",
       "      <td>Jaipur</td>\n",
       "    </tr>\n",
       "    <tr>\n",
       "      <th>2</th>\n",
       "      <td>3</td>\n",
       "      <td>Apex Institute of Engineering &amp; Technology, Ja...</td>\n",
       "      <td>Apex Institute of Engineering &amp; Technology</td>\n",
       "      <td>ISI-5  RIICO Institutional Area  Sitapura  Jai...</td>\n",
       "      <td>Jaipur</td>\n",
       "    </tr>\n",
       "    <tr>\n",
       "      <th>3</th>\n",
       "      <td>4</td>\n",
       "      <td>Aravali Institute  Of Technical Studies, Jaipu...</td>\n",
       "      <td>Aravali Institute  Of Technical Studies</td>\n",
       "      <td>Umarada Railway Station  Udaipur-313015</td>\n",
       "      <td>Jaipur</td>\n",
       "    </tr>\n",
       "    <tr>\n",
       "      <th>4</th>\n",
       "      <td>5</td>\n",
       "      <td>Arya College of Engineering &amp; Information Tech...</td>\n",
       "      <td>Arya College of Engineering &amp; Information Tech...</td>\n",
       "      <td>SP-42  Kukas Industrial Area (RIICO)  Delhi Ro...</td>\n",
       "      <td>Jaipur</td>\n",
       "    </tr>\n",
       "    <tr>\n",
       "      <th>...</th>\n",
       "      <td>...</td>\n",
       "      <td>...</td>\n",
       "      <td>...</td>\n",
       "      <td>...</td>\n",
       "      <td>...</td>\n",
       "    </tr>\n",
       "    <tr>\n",
       "      <th>63</th>\n",
       "      <td>64</td>\n",
       "      <td>Vedant College of Engineering &amp; Technology, Bu...</td>\n",
       "      <td>Vedant College of Engineering &amp; Technology</td>\n",
       "      <td>Village-Tulsi  Post-Jhakmund  Distt- Bundi -\\n...</td>\n",
       "      <td>Bundi</td>\n",
       "    </tr>\n",
       "    <tr>\n",
       "      <th>64</th>\n",
       "      <td>65</td>\n",
       "      <td>Vedic Gurukul Institute of Engineering &amp; Techn...</td>\n",
       "      <td>Vedic Gurukul Institute of Engineering &amp; Techn...</td>\n",
       "      <td>Gram-Pawalia, Tehsil-Sanaganer, Khasra Number-...</td>\n",
       "      <td>Jaipur</td>\n",
       "    </tr>\n",
       "    <tr>\n",
       "      <th>65</th>\n",
       "      <td>66</td>\n",
       "      <td>Vivekanand Institute of Technology, Jaipur (RT...</td>\n",
       "      <td>Vivekanand Institute of Technology</td>\n",
       "      <td>Sisyawas  NRI Road  Jagatpura  Jaipur-303012</td>\n",
       "      <td>Jaipur</td>\n",
       "    </tr>\n",
       "    <tr>\n",
       "      <th>66</th>\n",
       "      <td>67</td>\n",
       "      <td>Yagyavalkya Institute of Technology, Jaipur (R...</td>\n",
       "      <td>Yagyavalkya Institute of Technology</td>\n",
       "      <td>IP-1, Phase-IV, RIICO Industrial Area, Sitapur...</td>\n",
       "      <td>Jaipur</td>\n",
       "    </tr>\n",
       "    <tr>\n",
       "      <th>67</th>\n",
       "      <td>68</td>\n",
       "      <td>Yagyavalkya Institute of Technology, Jaipur (R...</td>\n",
       "      <td>Yagyavalkya Institute of Technology</td>\n",
       "      <td>IP-1, Phase-IV, RIICO Industrial Area, Sitapur...</td>\n",
       "      <td>Jaipur</td>\n",
       "    </tr>\n",
       "  </tbody>\n",
       "</table>\n",
       "<p>68 rows × 5 columns</p>\n",
       "</div>"
      ],
      "text/plain": [
       "    SN                                          Institute  \\\n",
       "0    1  Advait Vedanta Institute of Technology, Jaipur...   \n",
       "1    2  Anand International College of Engineering, Ja...   \n",
       "2    3  Apex Institute of Engineering & Technology, Ja...   \n",
       "3    4  Aravali Institute  Of Technical Studies, Jaipu...   \n",
       "4    5  Arya College of Engineering & Information Tech...   \n",
       "..  ..                                                ...   \n",
       "63  64  Vedant College of Engineering & Technology, Bu...   \n",
       "64  65  Vedic Gurukul Institute of Engineering & Techn...   \n",
       "65  66  Vivekanand Institute of Technology, Jaipur (RT...   \n",
       "66  67  Yagyavalkya Institute of Technology, Jaipur (R...   \n",
       "67  68  Yagyavalkya Institute of Technology, Jaipur (R...   \n",
       "\n",
       "                                   NAME OF INSTITUTES  \\\n",
       "0              Advait Vedanta Institute of Technology   \n",
       "1          Anand International College of Engineering   \n",
       "2          Apex Institute of Engineering & Technology   \n",
       "3             Aravali Institute  Of Technical Studies   \n",
       "4   Arya College of Engineering & Information Tech...   \n",
       "..                                                ...   \n",
       "63         Vedant College of Engineering & Technology   \n",
       "64  Vedic Gurukul Institute of Engineering & Techn...   \n",
       "65                 Vivekanand Institute of Technology   \n",
       "66                Yagyavalkya Institute of Technology   \n",
       "67                Yagyavalkya Institute of Technology   \n",
       "\n",
       "                                              ADDRESS District  \n",
       "0   Adved Knowledge Park Kanota-Sambhariya Road  V...   Jaipur  \n",
       "1          814, Near Kanota  Agra Road  Jaipur-303012   Jaipur  \n",
       "2   ISI-5  RIICO Institutional Area  Sitapura  Jai...   Jaipur  \n",
       "3             Umarada Railway Station  Udaipur-313015   Jaipur  \n",
       "4   SP-42  Kukas Industrial Area (RIICO)  Delhi Ro...   Jaipur  \n",
       "..                                                ...      ...  \n",
       "63  Village-Tulsi  Post-Jhakmund  Distt- Bundi -\\n...    Bundi  \n",
       "64  Gram-Pawalia, Tehsil-Sanaganer, Khasra Number-...   Jaipur  \n",
       "65       Sisyawas  NRI Road  Jagatpura  Jaipur-303012   Jaipur  \n",
       "66  IP-1, Phase-IV, RIICO Industrial Area, Sitapur...   Jaipur  \n",
       "67  IP-1, Phase-IV, RIICO Industrial Area, Sitapur...   Jaipur  \n",
       "\n",
       "[68 rows x 5 columns]"
      ]
     },
     "execution_count": 42,
     "metadata": {},
     "output_type": "execute_result"
    }
   ],
   "source": [
    "csv = \"C:\\\\Users\\\\sanat\\\\Downloads\\\\RTU 2308.csv\"\n",
    "df = pd.read_csv(csv, encoding = 'utf-8')\n",
    "df"
   ]
  },
  {
   "cell_type": "code",
   "execution_count": 44,
   "metadata": {},
   "outputs": [
    {
     "data": {
      "text/plain": [
       "'Advait Vedanta Institute of Technology, Jaipur  (RTU_1)|Anand International College of Engineering, Jaipur  (RTU_2)|Apex Institute of Engineering & Technology, Jaipur  (RTU_3)|Aravali Institute  Of Technical Studies, Jaipur  (RTU_4)|Arya College of Engineering & Information Technology, Jaipur  (RTU_5)|Arya College of Engineering & Information Technology, Jaipur  (RTU_6)|Arya College of Engineering & Research Centre, Jaipur  (RTU_7)|Arya Institute of Engineering  Technology & Management, Jaipur  (RTU_8)|Arya Institute of Engineering & Technology, Jaipur  (RTU_9)|Asians Institute of Technology, Tonk  (RTU_10)|Bal Krishna Institute of Technology, Kota  (RTU_11)|Baldev Ram Mirdha Institute Of Technology  (RTU_12)|Biff & Bright College of Engineering & Technology, Jaipur  (RTU_13)|Chandrawati  Group of Institutions, Bharatpur  (RTU_14)|Compucom Institute of Technology & Management, Jaipur  (RTU_15)|Dr. Radhakrishnan Institute of Technology, Jaipur  (RTU_16)|Geetanjali Institute of Technical Studies, Udaipur  (RTU_17)|Global Institute of Technology, Jaipur  (RTU_18)|Global Institute of Technology, Jaipur  (RTU_19)|Govt. Engineering College, Banswara  (RTU_20)|Govt. Engineering College, Baran  (RTU_21)|Govt. Engineering College, Bharatpur  (RTU_22)|Govt. Engineering College, Dholpur  (RTU_23)|Govt. Engineering College, Jhalawar  (RTU_24)|Govt. Engineering College, Karauli  (RTU_25)|Gurukul Institute of Engineering & Technology, Kota  (RTU_26)|Jagannath Gupta Institute of Engineering & Technology, Jaipur  (RTU_27)|Jagannath Gupta Institute of Engineering & Technology, Jaipur  (RTU_28)|Jaipur Engineering College & Research Centre, Jaipur  (RTU_29)|Jaipur Engineering College, Jaipur  (RTU_30)|Jaipur Institute of Engineering and Management, Jaipur  (RTU_31)|Jaipur Institute of Technology - Group of Institutions, Jaipur  (RTU_32)|Kautilya Institute of Technology & Engineering, Jaipur  (RTU_33)|M. L. V. Textile & Engineering College, Bhilwara  (RTU_34)|Maharani Girls Engineering College, Jaipur  (RTU_35)|Maharishi Arvind Institute of Engineering & Technology, Jaipur  (RTU_36)|Maharishi Arvind International Institute of Technology, Jaipur  (RTU_37)|Mahatma Gandhi Engineering College, Jaipur  (RTU_38)|Modi Institute of Technology, Kota  (RTU_39)|Nathdwara Institute of Engineering & Technology, Rajasmand  (RTU_40)|Pacific College of Engineering, Udaipur  (RTU_41)|Pinkcity Engineering College & Research Centre, Jaipur  (RTU_42)|Poornima College of Engineering, Jaipur  (RTU_43)|Poornima Group of Institutions - Faculty of Engineering , Jaipur  (RTU_44)|Poornima Institute of Engineering & Technology, Jaipur  (RTU_45)|Rajasthan College of Engineering for Women, Jaipur  (RTU_46)|Rajasthan Engineering College, Dausa  (RTU_47)|Rajasthan Institute of Engineering & Technology, Chittorgarh  (RTU_48)|Rajasthan Institute of Engineering & Technology, Jaipur  (RTU_49)|Rajasthan Technical University, Kota, Kota  (RTU_50)|Rajdhani Engineering College, Jaipur  (RTU_51)|Regional College for Education  Research & Technology, Jaipur  (RTU_52)|S. S. College of Engineering, Udaipur  (RTU_53)|Sawai Madhopur College of Engineering and Technology, Sawai-Madhopur  (RTU_54)|Shankara Institute of Technology, Jaipur  (RTU_55)|Shree Bhawani Niketan Institute of Technology & Management, Jaipur  (RTU_56)|Shri Digamber Institute of Technology, Dausa  (RTU_57)|Shrinathji Institute of Technology & Engineering, Rajsamand  (RTU_58)|Sine International Institute of Technology, Jaipur  (RTU_59)|Sri Balaji College of Engineering & Technology, Jaipur  (RTU_60)|Stani Memorial College of Engineering & Technology, Jaipur  (RTU_61)|Swami Keshwanand Institute of Technology, Jaipur  (RTU_62)|Techno India NJR Institute of Technology, Jaipur  (RTU_63)|Vedant College of Engineering & Technology, Bundi  (RTU_64)|Vedic Gurukul Institute of Engineering & Technology, Jaipur  (RTU_65)|Vivekanand Institute of Technology, Jaipur  (RTU_66)|Yagyavalkya Institute of Technology, Jaipur  (RTU_67)|Yagyavalkya Institute of Technology, Jaipur  (RTU_68)'"
      ]
     },
     "execution_count": 44,
     "metadata": {},
     "output_type": "execute_result"
    }
   ],
   "source": [
    "a = list(df['Institute'])\n",
    "a = [i.split(\"(\")[0] for i in a]\n",
    "b = [\"RTU\" + \"_\" + str(i+1) for i in range(len(a))]\n",
    "a.sort()\n",
    "'|'.join([a[i] + \" (\" + b[i] + \")\" for i in range(len(a))])"
   ]
  },
  {
   "cell_type": "code",
   "execution_count": null,
   "metadata": {
    "collapsed": true,
    "jupyter": {
     "outputs_hidden": true
    }
   },
   "outputs": [],
   "source": [
    "Aryabhatta College Of Engineering, Ajmer  (BTU_1)|B. K. Birla Institute Of Engineering & Technology, Jhunjhunu  (BTU_2)|BLM Institute Of Technology, Jhunjhunu  (BTU_3)|Bharatiya Institute Of Engineering & Technology, Sikar  (BTU_4)|CLG Institute Of Engineering & Technology, Pali  (BTU_5)|Chartered Institute Of Technology, Sirohi  (BTU_6)|Engineering College Barmer, Barmer  (BTU_7)|Engineering College Bikaner, Bikaner  (BTU_8)|Engineering College, Ajmer  (BTU_9)|G. D. Memorial College Of Management & Technology, Jodhpur  (BTU_10)|Institute Of Engineering & Technology, Alwar  (BTU_11)|JIET Institute of Design and Technology, Jodhpur  (BTU_12)|Jodhpur Institute Of Engineering & Technology, Jodhpur  (BTU_13)|Keystone Group Of Institutions, Jhunjhunu  (BTU_14)|Laxmi Devi Institute Of Engineering & Technology, Alwar  (BTU_15)|Mahaveer Institute Of Technology & Science, Pali  (BTU_16)|Mahila Engineering College, Ajmer  (BTU_17)|Manda Institute Of Technology, Bikaner  (BTU_18)|Marudhar Engineering College, Bikaner  (BTU_19)|Mayurakshi Institute Of Engineering & Technology, Jodhpur  (BTU_20)|Modern Institute Of Technology & Research Centre, Alwar  (BTU_21)|Northern Institute Of Engineering & Technical Campus, Alwar  (BTU_22)|Pratap Institute Of Technology & Science, Sikar  (BTU_23)|Raj Engineering College, Jodhpur  (BTU_24)|SLBS Engineering College, Jodhpur  (BTU_25)|Shekhawati Engineering College, Jhunjhunu  (BTU_26)|Shekhawati Institute Of Engineering & Technology, Sikar  (BTU_27)|Shekhawati Institute Of Technology, Sikar  (BTU_28)|Sobhasaria Group Of Institutions, Sikar  (BTU_29)|St. Wilfreds Institute Of Engineering & Technology, Ajmer  (BTU_30)|Surendra Group Of Institutions, Sri-Ganganagar  (BTU_31)|University College Of Engineering & Technology, Bikaner  (BTU_32)|Vyas College Of Engineering & Technology, Jodhpur  (BTU_33)|Vyas Institute Of Engineering & Technology, Jodhpur  (BTU_34)"
   ]
  }
 ],
 "metadata": {
  "kernelspec": {
   "display_name": "Python 3 (ipykernel)",
   "language": "python",
   "name": "python3"
  },
  "language_info": {
   "codemirror_mode": {
    "name": "ipython",
    "version": 3
   },
   "file_extension": ".py",
   "mimetype": "text/x-python",
   "name": "python",
   "nbconvert_exporter": "python",
   "pygments_lexer": "ipython3",
   "version": "3.10.5"
  },
  "vscode": {
   "interpreter": {
    "hash": "aee8b7b246df8f9039afb4144a1f6fd8d2ca17a180786b69acc140d282b71a49"
   }
  }
 },
 "nbformat": 4,
 "nbformat_minor": 4
}
